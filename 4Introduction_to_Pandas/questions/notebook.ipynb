{
  "cells": [
    {
      "cell_type": "markdown",
      "metadata": {
        "id": "view-in-github",
        "colab_type": "text"
      },
      "source": [
        "<a href=\"https://colab.research.google.com/github/YehorSavchenko/Quantopian-Lectures/blob/master/4Introduction_to_Pandas/questions/notebook.ipynb\" target=\"_parent\"><img src=\"https://colab.research.google.com/assets/colab-badge.svg\" alt=\"Open In Colab\"/></a>"
      ]
    },
    {
      "cell_type": "markdown",
      "metadata": {
        "deletable": true,
        "editable": true,
        "id": "dXZzFl7Murw9"
      },
      "source": [
        "# Exercises: Introduction to pandas\n",
        "By Christopher van Hoecke, Maxwell Margenot\n",
        "\n",
        "## Lecture Link :\n",
        "https://www.quantopian.com/lectures/introduction-to-pandas\n",
        "\n",
        "### IMPORTANT NOTE:\n",
        "This lecture corresponds to the Introduction to Pandas lecture, which is part of the Quantopian lecture series. This homework expects you to rely heavily on the code presented in the corresponding lecture. Please copy and paste regularly from that lecture when starting to work on the problems, as trying to do them from scratch will likely be too difficult.\n",
        "\n",
        "Part of the Quantopian Lecture Series:\n",
        "\n",
        "* [www.quantopian.com/lectures](https://www.quantopian.com/lectures)\n",
        "* [github.com/quantopian/research_public](https://github.com/quantopian/research_public)\n",
        "\n",
        "\n",
        "\n",
        "----"
      ]
    },
    {
      "cell_type": "code",
      "execution_count": 1,
      "metadata": {
        "collapsed": true,
        "deletable": true,
        "editable": true,
        "id": "PMNgvH-xurw_"
      },
      "outputs": [],
      "source": [
        "# Useful Functions\n",
        "import numpy as np\n",
        "import pandas as pd\n",
        "import matplotlib.pyplot as plt"
      ]
    },
    {
      "cell_type": "markdown",
      "metadata": {
        "deletable": true,
        "editable": true,
        "id": "cblhMXjturxA"
      },
      "source": [
        "----"
      ]
    },
    {
      "cell_type": "markdown",
      "metadata": {
        "deletable": true,
        "editable": true,
        "id": "GZtoF_lVurxA"
      },
      "source": [
        "# Exercise 1\n",
        "## a. Series\n",
        "Given an array of data, please create a pandas Series `s` with a datetime index starting `2016-01-01`. The index should be daily frequency and should be the same length as the data."
      ]
    },
    {
      "cell_type": "code",
      "source": [
        "pd.date_range?"
      ],
      "metadata": {
        "id": "5PTegQ_vvDV_"
      },
      "execution_count": 3,
      "outputs": []
    },
    {
      "cell_type": "code",
      "execution_count": 4,
      "metadata": {
        "deletable": true,
        "editable": true,
        "id": "GG5N3CS8urxA",
        "outputId": "dceded8c-69e1-4876-c3ce-0d48d9cf5d6b",
        "colab": {
          "base_uri": "https://localhost:8080/"
        }
      },
      "outputs": [
        {
          "output_type": "execute_result",
          "data": {
            "text/plain": [
              "2016-01-01    58\n",
              "2016-01-02    78\n",
              "2016-01-03     1\n",
              "2016-01-04    37\n",
              "2016-01-05    53\n",
              "2016-01-06    50\n",
              "2016-01-07    80\n",
              "2016-01-08    10\n",
              "2016-01-09    23\n",
              "2016-01-10    60\n",
              "Freq: D, dtype: int64"
            ]
          },
          "metadata": {},
          "execution_count": 4
        }
      ],
      "source": [
        "l = np.random.randint(1,100, size=1000)\n",
        "s = pd.Series(l)\n",
        "\n",
        "## Your code goes here\n",
        "s.index = pd.date_range('2016-01-01', periods=len(s), freq='D')\n",
        "s.head(10)"
      ]
    },
    {
      "cell_type": "markdown",
      "metadata": {
        "deletable": true,
        "editable": true,
        "id": "hUvxpX1zurxB"
      },
      "source": [
        "## b. Accessing Series Elements.\n",
        "- Print every other element of the first 50 elements of series `s`.\n",
        "- Find the value associated with the index `2017-02-20`."
      ]
    },
    {
      "cell_type": "code",
      "execution_count": 5,
      "metadata": {
        "deletable": true,
        "editable": true,
        "id": "rNaLKzqPurxB",
        "outputId": "7b96ef2f-67b8-47c4-947e-d883828e2e35",
        "colab": {
          "base_uri": "https://localhost:8080/"
        }
      },
      "outputs": [
        {
          "output_type": "execute_result",
          "data": {
            "text/plain": [
              "3"
            ]
          },
          "metadata": {},
          "execution_count": 5
        }
      ],
      "source": [
        "## Your code goes here\n",
        "s.iloc[:50]\n",
        "## Your code goes here\n",
        "s.loc['2017-02-20']"
      ]
    },
    {
      "cell_type": "markdown",
      "metadata": {
        "deletable": true,
        "editable": true,
        "id": "HDmyX_v0urxB"
      },
      "source": [
        "## c. Boolean Indexing.\n",
        "In the series `s`, print all the values between 1 and 3."
      ]
    },
    {
      "cell_type": "code",
      "execution_count": 9,
      "metadata": {
        "deletable": true,
        "editable": true,
        "id": "UrEDVjaqurxC",
        "outputId": "5c919b9b-8bf6-4486-dea2-9a1809ffbd1b",
        "colab": {
          "base_uri": "https://localhost:8080/"
        }
      },
      "outputs": [
        {
          "output_type": "execute_result",
          "data": {
            "text/plain": [
              "2016-10-07    2\n",
              "2017-04-18    2\n",
              "2017-05-04    2\n",
              "2017-09-18    2\n",
              "2017-10-24    2\n",
              "2018-02-04    2\n",
              "2018-08-29    2\n",
              "dtype: int64"
            ]
          },
          "metadata": {},
          "execution_count": 9
        }
      ],
      "source": [
        "## Your code goes here\n",
        "s.loc[(s > 1) & (s < 3)]"
      ]
    },
    {
      "cell_type": "markdown",
      "metadata": {
        "deletable": true,
        "editable": true,
        "id": "F9ktcENUurxC"
      },
      "source": [
        "----"
      ]
    },
    {
      "cell_type": "markdown",
      "metadata": {
        "deletable": true,
        "editable": true,
        "id": "OCxn5m50urxC"
      },
      "source": [
        "#Exercise 2 : Indexing and time series.\n",
        "###a. Display\n",
        "Print the first and last 5 elements of the series `s`."
      ]
    },
    {
      "cell_type": "code",
      "execution_count": 10,
      "metadata": {
        "deletable": true,
        "editable": true,
        "id": "Mayj8PtcurxC",
        "outputId": "13f61bfb-d678-4f78-a964-03b2a21f1f6e",
        "colab": {
          "base_uri": "https://localhost:8080/"
        }
      },
      "outputs": [
        {
          "output_type": "execute_result",
          "data": {
            "text/plain": [
              "2018-09-22    98\n",
              "2018-09-23     4\n",
              "2018-09-24    85\n",
              "2018-09-25    20\n",
              "2018-09-26    55\n",
              "Freq: D, dtype: int64"
            ]
          },
          "metadata": {},
          "execution_count": 10
        }
      ],
      "source": [
        "## Your code goes here\n",
        "s.head(5)\n",
        "## Your code goes here\n",
        "s.tail(5)"
      ]
    },
    {
      "cell_type": "markdown",
      "metadata": {
        "deletable": true,
        "editable": true,
        "id": "cyMeGxUXurxC"
      },
      "source": [
        "### b. Resampling\n",
        "- Using the resample method, upsample the daily data to monthly frequency. Use the median method so that each monthly value is the median price of all the days in that month.\n",
        "- Take the daily data and fill in every day, including weekends and holidays, using forward-fills."
      ]
    },
    {
      "cell_type": "code",
      "source": [
        "import yfinance as yf"
      ],
      "metadata": {
        "id": "fJYKBpIBv8dZ"
      },
      "execution_count": 12,
      "outputs": []
    },
    {
      "cell_type": "code",
      "execution_count": 14,
      "metadata": {
        "deletable": true,
        "editable": true,
        "id": "bxcX_4mOurxD",
        "outputId": "2a651991-8886-48a0-92ca-91ffd118f71c",
        "colab": {
          "base_uri": "https://localhost:8080/"
        }
      },
      "outputs": [
        {
          "output_type": "stream",
          "name": "stderr",
          "text": [
            "\r[*********************100%%**********************]  1 of 1 completed\n"
          ]
        },
        {
          "output_type": "execute_result",
          "data": {
            "text/plain": [
              "Date\n",
              "2012-01-31     7.1080\n",
              "2012-02-29     7.5593\n",
              "2012-03-31     8.1065\n",
              "2012-04-30     8.3973\n",
              "2012-05-31     8.1035\n",
              "2012-06-30     8.0974\n",
              "2012-07-31     7.5800\n",
              "2012-08-31     5.9258\n",
              "2012-09-30     6.6760\n",
              "2012-10-31     5.7144\n",
              "2012-11-30     5.2844\n",
              "2012-12-31     5.5431\n",
              "2013-01-31     5.9792\n",
              "2013-02-28     6.2880\n",
              "2013-03-31     6.4027\n",
              "2013-04-30     6.8103\n",
              "2013-05-31     7.3724\n",
              "2013-06-30     7.2688\n",
              "2013-07-31     7.7339\n",
              "2013-08-31     8.0992\n",
              "2013-09-30     8.3641\n",
              "2013-10-31     8.8284\n",
              "2013-11-30    10.7074\n",
              "2013-12-31    10.4300\n",
              "2014-01-31    10.6000\n",
              "2014-02-28    11.0222\n",
              "2014-03-31    11.6822\n",
              "2014-04-30    10.8098\n",
              "2014-05-31    10.1300\n",
              "2014-06-30    11.7406\n",
              "2014-07-31    12.0335\n",
              "2014-08-31    13.5634\n",
              "2014-09-30    13.2884\n",
              "2014-10-31    12.9100\n",
              "2014-11-30    13.1366\n",
              "2014-12-31    13.1724\n",
              "2015-01-31    14.2364\n",
              "2015-02-28    13.4334\n",
              "2015-03-31    13.3516\n",
              "2015-04-30    13.1026\n",
              "2015-05-31    12.6234\n",
              "2015-06-30    12.1587\n",
              "2015-07-31    13.1982\n",
              "2015-08-31    14.8440\n",
              "2015-09-30    14.5500\n",
              "2015-10-31    14.3508\n",
              "2015-11-30    12.1900\n",
              "2015-12-31    11.0038\n",
              "Freq: M, Name: Open, dtype: float64"
            ]
          },
          "metadata": {},
          "execution_count": 14
        }
      ],
      "source": [
        "symbol = \"CMG\"\n",
        "start = \"2012-01-01\"\n",
        "end = \"2016-01-01\"\n",
        "prices = yf.download(symbol, start=start, end=end).Open\n",
        "\n",
        "## Your code goes here\n",
        "prices.resample('M').median()"
      ]
    },
    {
      "cell_type": "code",
      "source": [
        "prices.asfreq?"
      ],
      "metadata": {
        "id": "9tGVK2LDwVtQ"
      },
      "execution_count": 15,
      "outputs": []
    },
    {
      "cell_type": "code",
      "execution_count": 16,
      "metadata": {
        "collapsed": true,
        "deletable": true,
        "editable": true,
        "id": "9UEfuGdourxD",
        "outputId": "8c9f98fa-919f-4c95-a3ec-3b8857b9ed30",
        "colab": {
          "base_uri": "https://localhost:8080/"
        }
      },
      "outputs": [
        {
          "output_type": "execute_result",
          "data": {
            "text/plain": [
              "Date\n",
              "2012-01-03    6.8740\n",
              "2012-01-04    6.9200\n",
              "2012-01-05    6.9376\n",
              "2012-01-06    6.9776\n",
              "2012-01-07    6.9776\n",
              "               ...  \n",
              "2015-12-27    9.9774\n",
              "2015-12-28    9.9194\n",
              "2015-12-29    9.8820\n",
              "2015-12-30    9.8000\n",
              "2015-12-31    9.6622\n",
              "Freq: D, Name: Open, Length: 1459, dtype: float64"
            ]
          },
          "metadata": {},
          "execution_count": 16
        }
      ],
      "source": [
        "## Your code goes here\n",
        "prices.asfreq('D', method='ffill')"
      ]
    },
    {
      "cell_type": "markdown",
      "metadata": {
        "deletable": true,
        "editable": true,
        "id": "7clSuJiqurxD"
      },
      "source": [
        "----"
      ]
    },
    {
      "cell_type": "markdown",
      "metadata": {
        "deletable": true,
        "editable": true,
        "id": "bF1QN5evurxD"
      },
      "source": [
        "#Exercise 3 : Missing Data\n",
        "- Replace all instances of `NaN` using the forward fill method.\n",
        "- Instead of filling, remove all instances of `NaN` from the data."
      ]
    },
    {
      "cell_type": "code",
      "execution_count": 18,
      "metadata": {
        "deletable": true,
        "editable": true,
        "id": "ijSq82OiurxD",
        "outputId": "e26e2702-28ad-4885-9dff-0c8da099f97e",
        "colab": {
          "base_uri": "https://localhost:8080/"
        }
      },
      "outputs": [
        {
          "output_type": "stream",
          "name": "stderr",
          "text": [
            "<ipython-input-18-cf8f3b12e6be>:2: FutureWarning: Series.fillna with 'method' is deprecated and will raise in a future version. Use obj.ffill() or obj.bfill() instead.\n",
            "  prices.fillna(method='ffill')\n"
          ]
        },
        {
          "output_type": "execute_result",
          "data": {
            "text/plain": [
              "Date\n",
              "2012-01-03    6.8740\n",
              "2012-01-04    6.9200\n",
              "2012-01-05    6.9376\n",
              "2012-01-06    6.9776\n",
              "2012-01-09    6.9800\n",
              "               ...  \n",
              "2015-12-24    9.9774\n",
              "2015-12-28    9.9194\n",
              "2015-12-29    9.8820\n",
              "2015-12-30    9.8000\n",
              "2015-12-31    9.6622\n",
              "Name: Open, Length: 1006, dtype: float64"
            ]
          },
          "metadata": {},
          "execution_count": 18
        }
      ],
      "source": [
        "## Your code goes here\n",
        "prices.fillna(method='ffill')"
      ]
    },
    {
      "cell_type": "code",
      "execution_count": 19,
      "metadata": {
        "deletable": true,
        "editable": true,
        "id": "T-ZRyWbmurxD",
        "outputId": "f0d01a5b-d20d-4fa1-f622-22a116b50686",
        "colab": {
          "base_uri": "https://localhost:8080/"
        }
      },
      "outputs": [
        {
          "output_type": "execute_result",
          "data": {
            "text/plain": [
              "Date\n",
              "2012-01-03    6.8740\n",
              "2012-01-04    6.9200\n",
              "2012-01-05    6.9376\n",
              "2012-01-06    6.9776\n",
              "2012-01-09    6.9800\n",
              "               ...  \n",
              "2015-12-24    9.9774\n",
              "2015-12-28    9.9194\n",
              "2015-12-29    9.8820\n",
              "2015-12-30    9.8000\n",
              "2015-12-31    9.6622\n",
              "Name: Open, Length: 1006, dtype: float64"
            ]
          },
          "metadata": {},
          "execution_count": 19
        }
      ],
      "source": [
        "## Your code goes here\n",
        "prices.dropna()"
      ]
    },
    {
      "cell_type": "markdown",
      "metadata": {
        "deletable": true,
        "editable": true,
        "id": "yXzjYP-wurxD"
      },
      "source": [
        "----"
      ]
    },
    {
      "cell_type": "markdown",
      "metadata": {
        "deletable": true,
        "editable": true,
        "id": "XtIZrCvIurxD"
      },
      "source": [
        "# Exercise 4 : Time Series Analysis with pandas\n",
        "## a. General Information\n",
        "Print the count, mean, standard deviation, minimum, 25th, 50th, and 75th percentiles, and the max of our series s."
      ]
    },
    {
      "cell_type": "code",
      "execution_count": 20,
      "metadata": {
        "deletable": true,
        "editable": true,
        "id": "ldr7AhP1urxD",
        "outputId": "7effca44-9427-4627-8e09-c8450eaf9ce5",
        "colab": {
          "base_uri": "https://localhost:8080/"
        }
      },
      "outputs": [
        {
          "output_type": "stream",
          "name": "stdout",
          "text": [
            "Summary Statistics\n"
          ]
        },
        {
          "output_type": "execute_result",
          "data": {
            "text/plain": [
              "count    1000.000000\n",
              "mean       49.426000\n",
              "std        28.075982\n",
              "min         1.000000\n",
              "25%        25.000000\n",
              "50%        49.000000\n",
              "75%        73.000000\n",
              "max        99.000000\n",
              "dtype: float64"
            ]
          },
          "metadata": {},
          "execution_count": 20
        }
      ],
      "source": [
        "print (\"Summary Statistics\")\n",
        "## Your code goes here\n",
        "s.describe()"
      ]
    },
    {
      "cell_type": "markdown",
      "metadata": {
        "deletable": true,
        "editable": true,
        "id": "lmH3FweXurxE"
      },
      "source": [
        "## b. Series Operations\n",
        "- Get the additive and multiplicative returns of this series.\n",
        "- Calculate the rolling mean with a 60 day window.\n",
        "- Calculate the standard deviation with a 60 day window."
      ]
    },
    {
      "cell_type": "code",
      "source": [],
      "metadata": {
        "id": "HjPJKDJyx1xl",
        "outputId": "435a7990-955d-462b-9bd3-c1b5108766a2",
        "colab": {
          "base_uri": "https://localhost:8080/"
        }
      },
      "execution_count": 22,
      "outputs": [
        {
          "output_type": "stream",
          "name": "stdout",
          "text": [
            "Object `data.pct_change` not found.\n"
          ]
        }
      ]
    },
    {
      "cell_type": "code",
      "execution_count": 44,
      "metadata": {
        "deletable": true,
        "editable": true,
        "id": "9xRXjiZdurxE",
        "outputId": "e0616f10-2178-42a6-91cf-fe6f91cba8f4",
        "colab": {
          "base_uri": "https://localhost:8080/"
        }
      },
      "outputs": [
        {
          "output_type": "stream",
          "name": "stderr",
          "text": [
            "\r[*********************100%%**********************]  1 of 1 completed"
          ]
        },
        {
          "output_type": "stream",
          "name": "stdout",
          "text": [
            "Date\n",
            "2016-01-05    0.623016\n",
            "2016-01-06   -1.964905\n",
            "2016-01-07   -2.971313\n",
            "2016-01-08   -2.156586\n",
            "2016-01-11   -3.163010\n",
            "Name: Open, dtype: float64\n",
            "Date\n",
            "2016-01-05    0.004255\n",
            "2016-01-06   -0.013364\n",
            "2016-01-07   -0.020482\n",
            "2016-01-08   -0.015177\n",
            "2016-01-11   -0.022603\n",
            "Name: Open, dtype: float64\n"
          ]
        },
        {
          "output_type": "stream",
          "name": "stderr",
          "text": [
            "\n"
          ]
        }
      ],
      "source": [
        "data = yf.download('GE', start='2016-01-01', end='2017-01-01').Open\n",
        "\n",
        "## Your code goes here\n",
        "additive_returns = data.diff()[1:]\n",
        "print(additive_returns.head())\n",
        "## Your code goes here\n",
        "multiplicative_returns = data.pct_change()[1:]\n",
        "print(multiplicative_returns.head())"
      ]
    },
    {
      "cell_type": "code",
      "source": [
        "data.pct_change?"
      ],
      "metadata": {
        "id": "yqzdcEE8x8WY"
      },
      "execution_count": 29,
      "outputs": []
    },
    {
      "cell_type": "code",
      "execution_count": 45,
      "metadata": {
        "collapsed": true,
        "deletable": true,
        "editable": true,
        "id": "MSVePKIlurxE",
        "outputId": "90b53cc0-d777-4723-edfe-727ed0fdb023",
        "colab": {
          "base_uri": "https://localhost:8080/"
        }
      },
      "outputs": [
        {
          "output_type": "stream",
          "name": "stdout",
          "text": [
            "Date\n",
            "2016-01-04   NaN\n",
            "2016-01-05   NaN\n",
            "2016-01-06   NaN\n",
            "2016-01-07   NaN\n",
            "2016-01-08   NaN\n",
            "Name: Open, dtype: float64\n"
          ]
        }
      ],
      "source": [
        "# Rolling mean\n",
        "\n",
        "## Your code goes here\n",
        "rolling_mean = data.rolling(window=60).mean()\n",
        "print(rolling_mean.head())\n",
        "## Your code goes here"
      ]
    },
    {
      "cell_type": "code",
      "execution_count": 46,
      "metadata": {
        "collapsed": true,
        "deletable": true,
        "editable": true,
        "id": "5amahdbVurxE",
        "outputId": "92ae7ffb-df78-4ad9-e2eb-25b92f99da93",
        "colab": {
          "base_uri": "https://localhost:8080/"
        }
      },
      "outputs": [
        {
          "output_type": "stream",
          "name": "stdout",
          "text": [
            "Date\n",
            "2016-01-04   NaN\n",
            "2016-01-05   NaN\n",
            "2016-01-06   NaN\n",
            "2016-01-07   NaN\n",
            "2016-01-08   NaN\n",
            "Name: Open, dtype: float64\n"
          ]
        }
      ],
      "source": [
        "# Rolling Standard Deviation\n",
        "\n",
        "## Your code goes here\n",
        "rolling_std = data.rolling(window=60).std()\n",
        "print(rolling_std.head())\n",
        "## Your code goes here"
      ]
    },
    {
      "cell_type": "markdown",
      "metadata": {
        "deletable": true,
        "editable": true,
        "id": "p_h1zSCPurxE"
      },
      "source": [
        "----"
      ]
    },
    {
      "cell_type": "markdown",
      "metadata": {
        "deletable": true,
        "editable": true,
        "id": "vTJH4Q5ZurxE"
      },
      "source": [
        "# Exercise 5 : DataFrames\n",
        "## a. Indexing\n",
        "Form a DataFrame out of `dict_data` with `l` as its index."
      ]
    },
    {
      "cell_type": "code",
      "execution_count": 50,
      "metadata": {
        "deletable": true,
        "editable": true,
        "id": "_yPx6KhcurxE",
        "outputId": "a91825b3-5049-49ad-ea95-3c93b7d19177",
        "colab": {
          "base_uri": "https://localhost:8080/",
          "height": 206
        }
      },
      "outputs": [
        {
          "output_type": "execute_result",
          "data": {
            "text/plain": [
              "        a  b         c\n",
              "fifth   1  L -0.764197\n",
              "fourth  2  K  1.060298\n",
              "third   3  J  1.742148\n",
              "second  4  M  0.244358\n",
              "first   5  Z  0.417323"
            ],
            "text/html": [
              "\n",
              "  <div id=\"df-6d7f3f8c-4fd2-4829-ab50-1957c21897e3\" class=\"colab-df-container\">\n",
              "    <div>\n",
              "<style scoped>\n",
              "    .dataframe tbody tr th:only-of-type {\n",
              "        vertical-align: middle;\n",
              "    }\n",
              "\n",
              "    .dataframe tbody tr th {\n",
              "        vertical-align: top;\n",
              "    }\n",
              "\n",
              "    .dataframe thead th {\n",
              "        text-align: right;\n",
              "    }\n",
              "</style>\n",
              "<table border=\"1\" class=\"dataframe\">\n",
              "  <thead>\n",
              "    <tr style=\"text-align: right;\">\n",
              "      <th></th>\n",
              "      <th>a</th>\n",
              "      <th>b</th>\n",
              "      <th>c</th>\n",
              "    </tr>\n",
              "  </thead>\n",
              "  <tbody>\n",
              "    <tr>\n",
              "      <th>fifth</th>\n",
              "      <td>1</td>\n",
              "      <td>L</td>\n",
              "      <td>-0.764197</td>\n",
              "    </tr>\n",
              "    <tr>\n",
              "      <th>fourth</th>\n",
              "      <td>2</td>\n",
              "      <td>K</td>\n",
              "      <td>1.060298</td>\n",
              "    </tr>\n",
              "    <tr>\n",
              "      <th>third</th>\n",
              "      <td>3</td>\n",
              "      <td>J</td>\n",
              "      <td>1.742148</td>\n",
              "    </tr>\n",
              "    <tr>\n",
              "      <th>second</th>\n",
              "      <td>4</td>\n",
              "      <td>M</td>\n",
              "      <td>0.244358</td>\n",
              "    </tr>\n",
              "    <tr>\n",
              "      <th>first</th>\n",
              "      <td>5</td>\n",
              "      <td>Z</td>\n",
              "      <td>0.417323</td>\n",
              "    </tr>\n",
              "  </tbody>\n",
              "</table>\n",
              "</div>\n",
              "    <div class=\"colab-df-buttons\">\n",
              "\n",
              "  <div class=\"colab-df-container\">\n",
              "    <button class=\"colab-df-convert\" onclick=\"convertToInteractive('df-6d7f3f8c-4fd2-4829-ab50-1957c21897e3')\"\n",
              "            title=\"Convert this dataframe to an interactive table.\"\n",
              "            style=\"display:none;\">\n",
              "\n",
              "  <svg xmlns=\"http://www.w3.org/2000/svg\" height=\"24px\" viewBox=\"0 -960 960 960\">\n",
              "    <path d=\"M120-120v-720h720v720H120Zm60-500h600v-160H180v160Zm220 220h160v-160H400v160Zm0 220h160v-160H400v160ZM180-400h160v-160H180v160Zm440 0h160v-160H620v160ZM180-180h160v-160H180v160Zm440 0h160v-160H620v160Z\"/>\n",
              "  </svg>\n",
              "    </button>\n",
              "\n",
              "  <style>\n",
              "    .colab-df-container {\n",
              "      display:flex;\n",
              "      gap: 12px;\n",
              "    }\n",
              "\n",
              "    .colab-df-convert {\n",
              "      background-color: #E8F0FE;\n",
              "      border: none;\n",
              "      border-radius: 50%;\n",
              "      cursor: pointer;\n",
              "      display: none;\n",
              "      fill: #1967D2;\n",
              "      height: 32px;\n",
              "      padding: 0 0 0 0;\n",
              "      width: 32px;\n",
              "    }\n",
              "\n",
              "    .colab-df-convert:hover {\n",
              "      background-color: #E2EBFA;\n",
              "      box-shadow: 0px 1px 2px rgba(60, 64, 67, 0.3), 0px 1px 3px 1px rgba(60, 64, 67, 0.15);\n",
              "      fill: #174EA6;\n",
              "    }\n",
              "\n",
              "    .colab-df-buttons div {\n",
              "      margin-bottom: 4px;\n",
              "    }\n",
              "\n",
              "    [theme=dark] .colab-df-convert {\n",
              "      background-color: #3B4455;\n",
              "      fill: #D2E3FC;\n",
              "    }\n",
              "\n",
              "    [theme=dark] .colab-df-convert:hover {\n",
              "      background-color: #434B5C;\n",
              "      box-shadow: 0px 1px 3px 1px rgba(0, 0, 0, 0.15);\n",
              "      filter: drop-shadow(0px 1px 2px rgba(0, 0, 0, 0.3));\n",
              "      fill: #FFFFFF;\n",
              "    }\n",
              "  </style>\n",
              "\n",
              "    <script>\n",
              "      const buttonEl =\n",
              "        document.querySelector('#df-6d7f3f8c-4fd2-4829-ab50-1957c21897e3 button.colab-df-convert');\n",
              "      buttonEl.style.display =\n",
              "        google.colab.kernel.accessAllowed ? 'block' : 'none';\n",
              "\n",
              "      async function convertToInteractive(key) {\n",
              "        const element = document.querySelector('#df-6d7f3f8c-4fd2-4829-ab50-1957c21897e3');\n",
              "        const dataTable =\n",
              "          await google.colab.kernel.invokeFunction('convertToInteractive',\n",
              "                                                    [key], {});\n",
              "        if (!dataTable) return;\n",
              "\n",
              "        const docLinkHtml = 'Like what you see? Visit the ' +\n",
              "          '<a target=\"_blank\" href=https://colab.research.google.com/notebooks/data_table.ipynb>data table notebook</a>'\n",
              "          + ' to learn more about interactive tables.';\n",
              "        element.innerHTML = '';\n",
              "        dataTable['output_type'] = 'display_data';\n",
              "        await google.colab.output.renderOutput(dataTable, element);\n",
              "        const docLink = document.createElement('div');\n",
              "        docLink.innerHTML = docLinkHtml;\n",
              "        element.appendChild(docLink);\n",
              "      }\n",
              "    </script>\n",
              "  </div>\n",
              "\n",
              "\n",
              "<div id=\"df-1789732d-3d10-47a1-a530-42f6a934a6c7\">\n",
              "  <button class=\"colab-df-quickchart\" onclick=\"quickchart('df-1789732d-3d10-47a1-a530-42f6a934a6c7')\"\n",
              "            title=\"Suggest charts\"\n",
              "            style=\"display:none;\">\n",
              "\n",
              "<svg xmlns=\"http://www.w3.org/2000/svg\" height=\"24px\"viewBox=\"0 0 24 24\"\n",
              "     width=\"24px\">\n",
              "    <g>\n",
              "        <path d=\"M19 3H5c-1.1 0-2 .9-2 2v14c0 1.1.9 2 2 2h14c1.1 0 2-.9 2-2V5c0-1.1-.9-2-2-2zM9 17H7v-7h2v7zm4 0h-2V7h2v10zm4 0h-2v-4h2v4z\"/>\n",
              "    </g>\n",
              "</svg>\n",
              "  </button>\n",
              "\n",
              "<style>\n",
              "  .colab-df-quickchart {\n",
              "      --bg-color: #E8F0FE;\n",
              "      --fill-color: #1967D2;\n",
              "      --hover-bg-color: #E2EBFA;\n",
              "      --hover-fill-color: #174EA6;\n",
              "      --disabled-fill-color: #AAA;\n",
              "      --disabled-bg-color: #DDD;\n",
              "  }\n",
              "\n",
              "  [theme=dark] .colab-df-quickchart {\n",
              "      --bg-color: #3B4455;\n",
              "      --fill-color: #D2E3FC;\n",
              "      --hover-bg-color: #434B5C;\n",
              "      --hover-fill-color: #FFFFFF;\n",
              "      --disabled-bg-color: #3B4455;\n",
              "      --disabled-fill-color: #666;\n",
              "  }\n",
              "\n",
              "  .colab-df-quickchart {\n",
              "    background-color: var(--bg-color);\n",
              "    border: none;\n",
              "    border-radius: 50%;\n",
              "    cursor: pointer;\n",
              "    display: none;\n",
              "    fill: var(--fill-color);\n",
              "    height: 32px;\n",
              "    padding: 0;\n",
              "    width: 32px;\n",
              "  }\n",
              "\n",
              "  .colab-df-quickchart:hover {\n",
              "    background-color: var(--hover-bg-color);\n",
              "    box-shadow: 0 1px 2px rgba(60, 64, 67, 0.3), 0 1px 3px 1px rgba(60, 64, 67, 0.15);\n",
              "    fill: var(--button-hover-fill-color);\n",
              "  }\n",
              "\n",
              "  .colab-df-quickchart-complete:disabled,\n",
              "  .colab-df-quickchart-complete:disabled:hover {\n",
              "    background-color: var(--disabled-bg-color);\n",
              "    fill: var(--disabled-fill-color);\n",
              "    box-shadow: none;\n",
              "  }\n",
              "\n",
              "  .colab-df-spinner {\n",
              "    border: 2px solid var(--fill-color);\n",
              "    border-color: transparent;\n",
              "    border-bottom-color: var(--fill-color);\n",
              "    animation:\n",
              "      spin 1s steps(1) infinite;\n",
              "  }\n",
              "\n",
              "  @keyframes spin {\n",
              "    0% {\n",
              "      border-color: transparent;\n",
              "      border-bottom-color: var(--fill-color);\n",
              "      border-left-color: var(--fill-color);\n",
              "    }\n",
              "    20% {\n",
              "      border-color: transparent;\n",
              "      border-left-color: var(--fill-color);\n",
              "      border-top-color: var(--fill-color);\n",
              "    }\n",
              "    30% {\n",
              "      border-color: transparent;\n",
              "      border-left-color: var(--fill-color);\n",
              "      border-top-color: var(--fill-color);\n",
              "      border-right-color: var(--fill-color);\n",
              "    }\n",
              "    40% {\n",
              "      border-color: transparent;\n",
              "      border-right-color: var(--fill-color);\n",
              "      border-top-color: var(--fill-color);\n",
              "    }\n",
              "    60% {\n",
              "      border-color: transparent;\n",
              "      border-right-color: var(--fill-color);\n",
              "    }\n",
              "    80% {\n",
              "      border-color: transparent;\n",
              "      border-right-color: var(--fill-color);\n",
              "      border-bottom-color: var(--fill-color);\n",
              "    }\n",
              "    90% {\n",
              "      border-color: transparent;\n",
              "      border-bottom-color: var(--fill-color);\n",
              "    }\n",
              "  }\n",
              "</style>\n",
              "\n",
              "  <script>\n",
              "    async function quickchart(key) {\n",
              "      const quickchartButtonEl =\n",
              "        document.querySelector('#' + key + ' button');\n",
              "      quickchartButtonEl.disabled = true;  // To prevent multiple clicks.\n",
              "      quickchartButtonEl.classList.add('colab-df-spinner');\n",
              "      try {\n",
              "        const charts = await google.colab.kernel.invokeFunction(\n",
              "            'suggestCharts', [key], {});\n",
              "      } catch (error) {\n",
              "        console.error('Error during call to suggestCharts:', error);\n",
              "      }\n",
              "      quickchartButtonEl.classList.remove('colab-df-spinner');\n",
              "      quickchartButtonEl.classList.add('colab-df-quickchart-complete');\n",
              "    }\n",
              "    (() => {\n",
              "      let quickchartButtonEl =\n",
              "        document.querySelector('#df-1789732d-3d10-47a1-a530-42f6a934a6c7 button');\n",
              "      quickchartButtonEl.style.display =\n",
              "        google.colab.kernel.accessAllowed ? 'block' : 'none';\n",
              "    })();\n",
              "  </script>\n",
              "</div>\n",
              "\n",
              "  <div id=\"id_f564a258-cf5d-4683-a9c0-0f1a859b2992\">\n",
              "    <style>\n",
              "      .colab-df-generate {\n",
              "        background-color: #E8F0FE;\n",
              "        border: none;\n",
              "        border-radius: 50%;\n",
              "        cursor: pointer;\n",
              "        display: none;\n",
              "        fill: #1967D2;\n",
              "        height: 32px;\n",
              "        padding: 0 0 0 0;\n",
              "        width: 32px;\n",
              "      }\n",
              "\n",
              "      .colab-df-generate:hover {\n",
              "        background-color: #E2EBFA;\n",
              "        box-shadow: 0px 1px 2px rgba(60, 64, 67, 0.3), 0px 1px 3px 1px rgba(60, 64, 67, 0.15);\n",
              "        fill: #174EA6;\n",
              "      }\n",
              "\n",
              "      [theme=dark] .colab-df-generate {\n",
              "        background-color: #3B4455;\n",
              "        fill: #D2E3FC;\n",
              "      }\n",
              "\n",
              "      [theme=dark] .colab-df-generate:hover {\n",
              "        background-color: #434B5C;\n",
              "        box-shadow: 0px 1px 3px 1px rgba(0, 0, 0, 0.15);\n",
              "        filter: drop-shadow(0px 1px 2px rgba(0, 0, 0, 0.3));\n",
              "        fill: #FFFFFF;\n",
              "      }\n",
              "    </style>\n",
              "    <button class=\"colab-df-generate\" onclick=\"generateWithVariable('df')\"\n",
              "            title=\"Generate code using this dataframe.\"\n",
              "            style=\"display:none;\">\n",
              "\n",
              "  <svg xmlns=\"http://www.w3.org/2000/svg\" height=\"24px\"viewBox=\"0 0 24 24\"\n",
              "       width=\"24px\">\n",
              "    <path d=\"M7,19H8.4L18.45,9,17,7.55,7,17.6ZM5,21V16.75L18.45,3.32a2,2,0,0,1,2.83,0l1.4,1.43a1.91,1.91,0,0,1,.58,1.4,1.91,1.91,0,0,1-.58,1.4L9.25,21ZM18.45,9,17,7.55Zm-12,3A5.31,5.31,0,0,0,4.9,8.1,5.31,5.31,0,0,0,1,6.5,5.31,5.31,0,0,0,4.9,4.9,5.31,5.31,0,0,0,6.5,1,5.31,5.31,0,0,0,8.1,4.9,5.31,5.31,0,0,0,12,6.5,5.46,5.46,0,0,0,6.5,12Z\"/>\n",
              "  </svg>\n",
              "    </button>\n",
              "    <script>\n",
              "      (() => {\n",
              "      const buttonEl =\n",
              "        document.querySelector('#id_f564a258-cf5d-4683-a9c0-0f1a859b2992 button.colab-df-generate');\n",
              "      buttonEl.style.display =\n",
              "        google.colab.kernel.accessAllowed ? 'block' : 'none';\n",
              "\n",
              "      buttonEl.onclick = () => {\n",
              "        google.colab.notebook.generateWithVariable('df');\n",
              "      }\n",
              "      })();\n",
              "    </script>\n",
              "  </div>\n",
              "\n",
              "    </div>\n",
              "  </div>\n"
            ],
            "application/vnd.google.colaboratory.intrinsic+json": {
              "type": "dataframe",
              "variable_name": "df",
              "summary": "{\n  \"name\": \"df\",\n  \"rows\": 5,\n  \"fields\": [\n    {\n      \"column\": \"a\",\n      \"properties\": {\n        \"dtype\": \"number\",\n        \"std\": 1,\n        \"min\": 1,\n        \"max\": 5,\n        \"num_unique_values\": 5,\n        \"samples\": [\n          2,\n          5,\n          3\n        ],\n        \"semantic_type\": \"\",\n        \"description\": \"\"\n      }\n    },\n    {\n      \"column\": \"b\",\n      \"properties\": {\n        \"dtype\": \"string\",\n        \"num_unique_values\": 5,\n        \"samples\": [\n          \"K\",\n          \"Z\",\n          \"J\"\n        ],\n        \"semantic_type\": \"\",\n        \"description\": \"\"\n      }\n    },\n    {\n      \"column\": \"c\",\n      \"properties\": {\n        \"dtype\": \"number\",\n        \"std\": 0.9379836720339286,\n        \"min\": -0.7641968271391923,\n        \"max\": 1.7421483029559592,\n        \"num_unique_values\": 5,\n        \"samples\": [\n          1.0602979248069864,\n          0.41732342754300206,\n          1.7421483029559592\n        ],\n        \"semantic_type\": \"\",\n        \"description\": \"\"\n      }\n    }\n  ]\n}"
            }
          },
          "metadata": {},
          "execution_count": 50
        }
      ],
      "source": [
        "l = ['fifth','fourth', 'third', 'second', 'first']\n",
        "dict_data = {'a' : [1, 2, 3, 4, 5], 'b' : ['L', 'K', 'J', 'M', 'Z'],'c' : np.random.normal(0, 1, 5)}\n",
        "\n",
        "## Your code goes here\n",
        "df = pd.DataFrame(dict_data, index=l)\n",
        "df"
      ]
    },
    {
      "cell_type": "markdown",
      "metadata": {
        "deletable": true,
        "editable": true,
        "id": "iHzutTFzurxE"
      },
      "source": [
        "## b. DataFrames Manipulation\n",
        "- Concatenate the following two series to form a dataframe.\n",
        "- Rename the columns to `Good Numbers` and `Bad Numbers`.\n",
        "- Change the index to be a datetime index starting on `2016-01-01`."
      ]
    },
    {
      "cell_type": "code",
      "execution_count": 52,
      "metadata": {
        "collapsed": true,
        "deletable": true,
        "editable": true,
        "id": "tEF1DbyNurxE",
        "outputId": "87d46ef5-644a-4d06-f388-9fe5a906cc76",
        "colab": {
          "base_uri": "https://localhost:8080/"
        }
      },
      "outputs": [
        {
          "output_type": "stream",
          "name": "stdout",
          "text": [
            "            Good Numbers  Bad Numbers\n",
            "2016-01-01             2            1\n",
            "2016-01-02             3            4\n",
            "2016-01-03             5            6\n",
            "2016-01-04             7            8\n",
            "2016-01-05            11            9\n",
            "2016-01-06            13           10\n"
          ]
        }
      ],
      "source": [
        "s1 = pd.Series([2, 3, 5, 7, 11, 13], name='prime')\n",
        "s2 = pd.Series([1, 4, 6, 8, 9, 10], name='other')\n",
        "\n",
        "## Your code goes here\n",
        "s3 = pd.concat([s1, s2], axis=1)\n",
        "## Your code goes here\n",
        "s3.columns = ['Good Numbers', 'Bad Numbers']\n",
        "## Your code goes here\n",
        "s3.index = pd.date_range('2016-01-01', periods=len(s3), freq='D')\n",
        "print(s3)"
      ]
    },
    {
      "cell_type": "markdown",
      "metadata": {
        "deletable": true,
        "editable": true,
        "id": "94DJMgYFurxF"
      },
      "source": [
        "----"
      ]
    },
    {
      "cell_type": "markdown",
      "metadata": {
        "deletable": true,
        "editable": true,
        "id": "swRHcn5gurxF"
      },
      "source": [
        "# Exercise 6 : Accessing DataFrame elements.\n",
        "## a. Columns\n",
        "- Check the data type of one of the DataFrame's columns.\n",
        "- Print the values associated with time range `2013-01-01` to `2013-01-10`."
      ]
    },
    {
      "cell_type": "code",
      "execution_count": 54,
      "metadata": {
        "deletable": true,
        "editable": true,
        "id": "wSXJGPZourxF",
        "outputId": "b5a60090-b506-44db-d286-5403e8005f4c",
        "colab": {
          "base_uri": "https://localhost:8080/"
        }
      },
      "outputs": [
        {
          "output_type": "stream",
          "name": "stderr",
          "text": [
            "[*********************100%%**********************]  4 of 4 completed\n",
            "ERROR:yfinance:\n",
            "1 Failed download:\n",
            "ERROR:yfinance:['TOT']: YFTzMissingError('$%ticker%: possibly delisted; No timezone found')\n"
          ]
        },
        {
          "output_type": "execute_result",
          "data": {
            "text/plain": [
              "Date\n",
              "2012-01-03    85.970001\n",
              "2012-01-04    85.790001\n",
              "2012-01-05    85.639999\n",
              "2012-01-06    85.919998\n",
              "2012-01-09    85.000000\n",
              "Name: XOM, dtype: float64"
            ]
          },
          "metadata": {},
          "execution_count": 54
        }
      ],
      "source": [
        "symbol = [\"XOM\", \"BP\", \"COP\", \"TOT\"]\n",
        "start = \"2012-01-01\"\n",
        "end = \"2016-01-01\"\n",
        "prices = yf.download(symbol, start=start, end=end).Open\n",
        "if isinstance(symbol, list):\n",
        "    prices.columns = prices.columns\n",
        "else:\n",
        "    prices.name = symbol\n",
        "\n",
        "# Check Type of Data for these two.\n",
        "prices.XOM.head()\n",
        "prices.loc[:, 'XOM'].head()"
      ]
    },
    {
      "cell_type": "code",
      "execution_count": 57,
      "metadata": {
        "deletable": true,
        "editable": true,
        "id": "X3T8o9EpurxF",
        "outputId": "755f6d20-a6ea-4832-f4af-875f8c75fbe0",
        "colab": {
          "base_uri": "https://localhost:8080/"
        }
      },
      "outputs": [
        {
          "output_type": "stream",
          "name": "stdout",
          "text": [
            "<class 'pandas.core.series.Series'>\n",
            "Ticker             BP        COP  TOT        XOM\n",
            "Date                                            \n",
            "2013-01-02  42.450001  59.150002  NaN  87.790001\n",
            "2013-01-03  42.419998  59.139999  NaN  88.459999\n",
            "2013-01-04  43.430000  59.290001  NaN  88.500000\n",
            "2013-01-07  43.369999  59.630001  NaN  88.309998\n",
            "2013-01-08  43.310001  58.990002  NaN  87.820000\n",
            "2013-01-09  43.730000  58.590000  NaN  88.400002\n",
            "2013-01-10  44.470001  58.529999  NaN  88.750000\n"
          ]
        }
      ],
      "source": [
        "## Your code goes here\n",
        "print(type(prices.XOM))\n",
        "## Your code goes here\n",
        "print(prices.loc['2013-01-01':'2013-01-10'])"
      ]
    },
    {
      "cell_type": "code",
      "execution_count": null,
      "metadata": {
        "collapsed": true,
        "deletable": true,
        "editable": true,
        "id": "IvddONr5urxF"
      },
      "outputs": [],
      "source": [
        "## Your code goes here"
      ]
    },
    {
      "cell_type": "markdown",
      "metadata": {
        "deletable": true,
        "editable": true,
        "id": "u8Mhn_AjurxF"
      },
      "source": [
        "----"
      ]
    },
    {
      "cell_type": "markdown",
      "metadata": {
        "deletable": true,
        "editable": true,
        "id": "D9AWFZYAurxF"
      },
      "source": [
        "# Exercise 7 : Boolean Indexing\n",
        "## a. Filtering.\n",
        "- Filter pricing data from the last question (stored in `prices`) to only print values where:\n",
        "    - BP > 30\n",
        "    - XOM < 100\n",
        "    - The intersection of both above conditions (BP > 30 **and** XOM < 100)\n",
        "    - The union of the previous composite condition along with TOT having no `nan` values ((BP > 30 **and** XOM < 100) **or** TOT is non-`NaN`).\n",
        "- Add a column for TSLA and drop the column for XOM."
      ]
    },
    {
      "cell_type": "code",
      "execution_count": 58,
      "metadata": {
        "deletable": true,
        "editable": true,
        "id": "27RgX2ucurxF",
        "outputId": "22d881ba-bb64-4df2-ac47-4eb13046f735",
        "colab": {
          "base_uri": "https://localhost:8080/"
        }
      },
      "outputs": [
        {
          "output_type": "stream",
          "name": "stdout",
          "text": [
            "Ticker             BP        COP  TOT        XOM\n",
            "Date                                            \n",
            "2012-01-03  43.790001  56.350441  NaN  85.970001\n",
            "2012-01-04  44.470001  56.335194  NaN  85.790001\n",
            "2012-01-05  44.250000  55.847309  NaN  85.639999\n",
            "2012-01-06  44.580002  55.999775  NaN  85.919998\n",
            "2012-01-09  44.020000  55.466152  NaN  85.000000\n",
            "...               ...        ...  ...        ...\n",
            "2015-12-24  32.509998  49.040001  NaN  80.269997\n",
            "2015-12-28  31.670000  47.610001  NaN  78.120003\n",
            "2015-12-29  31.969999  48.230000  NaN  79.989998\n",
            "2015-12-30  31.549999  46.939999  NaN  78.320000\n",
            "2015-12-31  31.250000  46.060001  NaN  77.510002\n",
            "\n",
            "[1003 rows x 4 columns]\n",
            "Ticker             BP        COP  TOT        XOM\n",
            "Date                                            \n",
            "2012-01-03  43.790001  56.350441  NaN  85.970001\n",
            "2012-01-04  44.470001  56.335194  NaN  85.790001\n",
            "2012-01-05  44.250000  55.847309  NaN  85.639999\n",
            "2012-01-06  44.580002  55.999775  NaN  85.919998\n",
            "2012-01-09  44.020000  55.466152  NaN  85.000000\n",
            "...               ...        ...  ...        ...\n",
            "2015-12-24  32.509998  49.040001  NaN  80.269997\n",
            "2015-12-28  31.670000  47.610001  NaN  78.120003\n",
            "2015-12-29  31.969999  48.230000  NaN  79.989998\n",
            "2015-12-30  31.549999  46.939999  NaN  78.320000\n",
            "2015-12-31  31.250000  46.060001  NaN  77.510002\n",
            "\n",
            "[930 rows x 4 columns]\n",
            "Ticker             BP        COP  TOT        XOM\n",
            "Date                                            \n",
            "2012-01-03  43.790001  56.350441  NaN  85.970001\n",
            "2012-01-04  44.470001  56.335194  NaN  85.790001\n",
            "2012-01-05  44.250000  55.847309  NaN  85.639999\n",
            "2012-01-06  44.580002  55.999775  NaN  85.919998\n",
            "2012-01-09  44.020000  55.466152  NaN  85.000000\n",
            "...               ...        ...  ...        ...\n",
            "2015-12-24  32.509998  49.040001  NaN  80.269997\n",
            "2015-12-28  31.670000  47.610001  NaN  78.120003\n",
            "2015-12-29  31.969999  48.230000  NaN  79.989998\n",
            "2015-12-30  31.549999  46.939999  NaN  78.320000\n",
            "2015-12-31  31.250000  46.060001  NaN  77.510002\n",
            "\n",
            "[927 rows x 4 columns]\n",
            "Ticker             BP        COP  TOT        XOM\n",
            "Date                                            \n",
            "2012-01-03  43.790001  56.350441  NaN  85.970001\n",
            "2012-01-04  44.470001  56.335194  NaN  85.790001\n",
            "2012-01-05  44.250000  55.847309  NaN  85.639999\n",
            "2012-01-06  44.580002  55.999775  NaN  85.919998\n",
            "2012-01-09  44.020000  55.466152  NaN  85.000000\n",
            "...               ...        ...  ...        ...\n",
            "2015-12-24  32.509998  49.040001  NaN  80.269997\n",
            "2015-12-28  31.670000  47.610001  NaN  78.120003\n",
            "2015-12-29  31.969999  48.230000  NaN  79.989998\n",
            "2015-12-30  31.549999  46.939999  NaN  78.320000\n",
            "2015-12-31  31.250000  46.060001  NaN  77.510002\n",
            "\n",
            "[927 rows x 4 columns]\n"
          ]
        }
      ],
      "source": [
        "# Filter the data for prices to only print out values where\n",
        "# BP > 30\n",
        "print(prices.loc[prices.BP > 30])\n",
        "# XOM < 100\n",
        "print(prices.loc[prices.XOM < 100])\n",
        "# BP > 30 AND XOM < 100\n",
        "print(prices.loc[(prices.BP > 30) & (prices.XOM < 100)])\n",
        "# The union of (BP > 30 AND XOM < 100) with TOT being non-nan\n",
        "print(prices.loc[((prices.BP > 30) & (prices.XOM < 100)) | (prices.TOT.notna())])\n",
        "## Your code goes here"
      ]
    },
    {
      "cell_type": "code",
      "execution_count": 61,
      "metadata": {
        "deletable": true,
        "editable": true,
        "id": "6gewTV-BurxJ",
        "outputId": "80303932-b7a4-48fa-f90e-4a15cf2de150",
        "colab": {
          "base_uri": "https://localhost:8080/",
          "height": 391
        }
      },
      "outputs": [
        {
          "output_type": "stream",
          "name": "stderr",
          "text": [
            "\r[*********************100%%**********************]  1 of 1 completed\n"
          ]
        },
        {
          "output_type": "error",
          "ename": "KeyError",
          "evalue": "\"['XOM'] not found in axis\"",
          "traceback": [
            "\u001b[0;31m---------------------------------------------------------------------------\u001b[0m",
            "\u001b[0;31mKeyError\u001b[0m                                  Traceback (most recent call last)",
            "\u001b[0;32m<ipython-input-61-6585cd398981>\u001b[0m in \u001b[0;36m<cell line: 3>\u001b[0;34m()\u001b[0m\n\u001b[1;32m      1\u001b[0m \u001b[0;31m# Add a column for TSLA and drop the column for XOM\u001b[0m\u001b[0;34m\u001b[0m\u001b[0;34m\u001b[0m\u001b[0m\n\u001b[1;32m      2\u001b[0m \u001b[0mprices\u001b[0m\u001b[0;34m.\u001b[0m\u001b[0mloc\u001b[0m\u001b[0;34m[\u001b[0m\u001b[0;34m:\u001b[0m\u001b[0;34m,\u001b[0m \u001b[0;34m'TSLA'\u001b[0m\u001b[0;34m]\u001b[0m \u001b[0;34m=\u001b[0m \u001b[0myf\u001b[0m\u001b[0;34m.\u001b[0m\u001b[0mdownload\u001b[0m\u001b[0;34m(\u001b[0m\u001b[0;34m'TSLA'\u001b[0m\u001b[0;34m,\u001b[0m \u001b[0mstart\u001b[0m\u001b[0;34m=\u001b[0m\u001b[0mstart\u001b[0m\u001b[0;34m,\u001b[0m \u001b[0mend\u001b[0m\u001b[0;34m=\u001b[0m\u001b[0mend\u001b[0m\u001b[0;34m)\u001b[0m\u001b[0;34m.\u001b[0m\u001b[0mOpen\u001b[0m\u001b[0;34m\u001b[0m\u001b[0;34m\u001b[0m\u001b[0m\n\u001b[0;32m----> 3\u001b[0;31m \u001b[0mprices\u001b[0m \u001b[0;34m=\u001b[0m \u001b[0mprices\u001b[0m\u001b[0;34m.\u001b[0m\u001b[0mdrop\u001b[0m\u001b[0;34m(\u001b[0m\u001b[0;34m'XOM'\u001b[0m\u001b[0;34m,\u001b[0m \u001b[0maxis\u001b[0m\u001b[0;34m=\u001b[0m\u001b[0;36m1\u001b[0m\u001b[0;34m)\u001b[0m\u001b[0;34m\u001b[0m\u001b[0;34m\u001b[0m\u001b[0m\n\u001b[0m\u001b[1;32m      4\u001b[0m \u001b[0;31m## Your code goes here\u001b[0m\u001b[0;34m\u001b[0m\u001b[0;34m\u001b[0m\u001b[0m\n\u001b[1;32m      5\u001b[0m \u001b[0mprices\u001b[0m\u001b[0;34m.\u001b[0m\u001b[0mhead\u001b[0m\u001b[0;34m(\u001b[0m\u001b[0;34m)\u001b[0m\u001b[0;34m\u001b[0m\u001b[0;34m\u001b[0m\u001b[0m\n",
            "\u001b[0;32m/usr/local/lib/python3.10/dist-packages/pandas/core/frame.py\u001b[0m in \u001b[0;36mdrop\u001b[0;34m(self, labels, axis, index, columns, level, inplace, errors)\u001b[0m\n\u001b[1;32m   5342\u001b[0m                 \u001b[0mweight\u001b[0m  \u001b[0;36m1.0\u001b[0m     \u001b[0;36m0.8\u001b[0m\u001b[0;34m\u001b[0m\u001b[0;34m\u001b[0m\u001b[0m\n\u001b[1;32m   5343\u001b[0m         \"\"\"\n\u001b[0;32m-> 5344\u001b[0;31m         return super().drop(\n\u001b[0m\u001b[1;32m   5345\u001b[0m             \u001b[0mlabels\u001b[0m\u001b[0;34m=\u001b[0m\u001b[0mlabels\u001b[0m\u001b[0;34m,\u001b[0m\u001b[0;34m\u001b[0m\u001b[0;34m\u001b[0m\u001b[0m\n\u001b[1;32m   5346\u001b[0m             \u001b[0maxis\u001b[0m\u001b[0;34m=\u001b[0m\u001b[0maxis\u001b[0m\u001b[0;34m,\u001b[0m\u001b[0;34m\u001b[0m\u001b[0;34m\u001b[0m\u001b[0m\n",
            "\u001b[0;32m/usr/local/lib/python3.10/dist-packages/pandas/core/generic.py\u001b[0m in \u001b[0;36mdrop\u001b[0;34m(self, labels, axis, index, columns, level, inplace, errors)\u001b[0m\n\u001b[1;32m   4709\u001b[0m         \u001b[0;32mfor\u001b[0m \u001b[0maxis\u001b[0m\u001b[0;34m,\u001b[0m \u001b[0mlabels\u001b[0m \u001b[0;32min\u001b[0m \u001b[0maxes\u001b[0m\u001b[0;34m.\u001b[0m\u001b[0mitems\u001b[0m\u001b[0;34m(\u001b[0m\u001b[0;34m)\u001b[0m\u001b[0;34m:\u001b[0m\u001b[0;34m\u001b[0m\u001b[0;34m\u001b[0m\u001b[0m\n\u001b[1;32m   4710\u001b[0m             \u001b[0;32mif\u001b[0m \u001b[0mlabels\u001b[0m \u001b[0;32mis\u001b[0m \u001b[0;32mnot\u001b[0m \u001b[0;32mNone\u001b[0m\u001b[0;34m:\u001b[0m\u001b[0;34m\u001b[0m\u001b[0;34m\u001b[0m\u001b[0m\n\u001b[0;32m-> 4711\u001b[0;31m                 \u001b[0mobj\u001b[0m \u001b[0;34m=\u001b[0m \u001b[0mobj\u001b[0m\u001b[0;34m.\u001b[0m\u001b[0m_drop_axis\u001b[0m\u001b[0;34m(\u001b[0m\u001b[0mlabels\u001b[0m\u001b[0;34m,\u001b[0m \u001b[0maxis\u001b[0m\u001b[0;34m,\u001b[0m \u001b[0mlevel\u001b[0m\u001b[0;34m=\u001b[0m\u001b[0mlevel\u001b[0m\u001b[0;34m,\u001b[0m \u001b[0merrors\u001b[0m\u001b[0;34m=\u001b[0m\u001b[0merrors\u001b[0m\u001b[0;34m)\u001b[0m\u001b[0;34m\u001b[0m\u001b[0;34m\u001b[0m\u001b[0m\n\u001b[0m\u001b[1;32m   4712\u001b[0m \u001b[0;34m\u001b[0m\u001b[0m\n\u001b[1;32m   4713\u001b[0m         \u001b[0;32mif\u001b[0m \u001b[0minplace\u001b[0m\u001b[0;34m:\u001b[0m\u001b[0;34m\u001b[0m\u001b[0;34m\u001b[0m\u001b[0m\n",
            "\u001b[0;32m/usr/local/lib/python3.10/dist-packages/pandas/core/generic.py\u001b[0m in \u001b[0;36m_drop_axis\u001b[0;34m(self, labels, axis, level, errors, only_slice)\u001b[0m\n\u001b[1;32m   4751\u001b[0m                 \u001b[0mnew_axis\u001b[0m \u001b[0;34m=\u001b[0m \u001b[0maxis\u001b[0m\u001b[0;34m.\u001b[0m\u001b[0mdrop\u001b[0m\u001b[0;34m(\u001b[0m\u001b[0mlabels\u001b[0m\u001b[0;34m,\u001b[0m \u001b[0mlevel\u001b[0m\u001b[0;34m=\u001b[0m\u001b[0mlevel\u001b[0m\u001b[0;34m,\u001b[0m \u001b[0merrors\u001b[0m\u001b[0;34m=\u001b[0m\u001b[0merrors\u001b[0m\u001b[0;34m)\u001b[0m\u001b[0;34m\u001b[0m\u001b[0;34m\u001b[0m\u001b[0m\n\u001b[1;32m   4752\u001b[0m             \u001b[0;32melse\u001b[0m\u001b[0;34m:\u001b[0m\u001b[0;34m\u001b[0m\u001b[0;34m\u001b[0m\u001b[0m\n\u001b[0;32m-> 4753\u001b[0;31m                 \u001b[0mnew_axis\u001b[0m \u001b[0;34m=\u001b[0m \u001b[0maxis\u001b[0m\u001b[0;34m.\u001b[0m\u001b[0mdrop\u001b[0m\u001b[0;34m(\u001b[0m\u001b[0mlabels\u001b[0m\u001b[0;34m,\u001b[0m \u001b[0merrors\u001b[0m\u001b[0;34m=\u001b[0m\u001b[0merrors\u001b[0m\u001b[0;34m)\u001b[0m\u001b[0;34m\u001b[0m\u001b[0;34m\u001b[0m\u001b[0m\n\u001b[0m\u001b[1;32m   4754\u001b[0m             \u001b[0mindexer\u001b[0m \u001b[0;34m=\u001b[0m \u001b[0maxis\u001b[0m\u001b[0;34m.\u001b[0m\u001b[0mget_indexer\u001b[0m\u001b[0;34m(\u001b[0m\u001b[0mnew_axis\u001b[0m\u001b[0;34m)\u001b[0m\u001b[0;34m\u001b[0m\u001b[0;34m\u001b[0m\u001b[0m\n\u001b[1;32m   4755\u001b[0m \u001b[0;34m\u001b[0m\u001b[0m\n",
            "\u001b[0;32m/usr/local/lib/python3.10/dist-packages/pandas/core/indexes/base.py\u001b[0m in \u001b[0;36mdrop\u001b[0;34m(self, labels, errors)\u001b[0m\n\u001b[1;32m   6998\u001b[0m         \u001b[0;32mif\u001b[0m \u001b[0mmask\u001b[0m\u001b[0;34m.\u001b[0m\u001b[0many\u001b[0m\u001b[0;34m(\u001b[0m\u001b[0;34m)\u001b[0m\u001b[0;34m:\u001b[0m\u001b[0;34m\u001b[0m\u001b[0;34m\u001b[0m\u001b[0m\n\u001b[1;32m   6999\u001b[0m             \u001b[0;32mif\u001b[0m \u001b[0merrors\u001b[0m \u001b[0;34m!=\u001b[0m \u001b[0;34m\"ignore\"\u001b[0m\u001b[0;34m:\u001b[0m\u001b[0;34m\u001b[0m\u001b[0;34m\u001b[0m\u001b[0m\n\u001b[0;32m-> 7000\u001b[0;31m                 \u001b[0;32mraise\u001b[0m \u001b[0mKeyError\u001b[0m\u001b[0;34m(\u001b[0m\u001b[0;34mf\"{labels[mask].tolist()} not found in axis\"\u001b[0m\u001b[0;34m)\u001b[0m\u001b[0;34m\u001b[0m\u001b[0;34m\u001b[0m\u001b[0m\n\u001b[0m\u001b[1;32m   7001\u001b[0m             \u001b[0mindexer\u001b[0m \u001b[0;34m=\u001b[0m \u001b[0mindexer\u001b[0m\u001b[0;34m[\u001b[0m\u001b[0;34m~\u001b[0m\u001b[0mmask\u001b[0m\u001b[0;34m]\u001b[0m\u001b[0;34m\u001b[0m\u001b[0;34m\u001b[0m\u001b[0m\n\u001b[1;32m   7002\u001b[0m         \u001b[0;32mreturn\u001b[0m \u001b[0mself\u001b[0m\u001b[0;34m.\u001b[0m\u001b[0mdelete\u001b[0m\u001b[0;34m(\u001b[0m\u001b[0mindexer\u001b[0m\u001b[0;34m)\u001b[0m\u001b[0;34m\u001b[0m\u001b[0;34m\u001b[0m\u001b[0m\n",
            "\u001b[0;31mKeyError\u001b[0m: \"['XOM'] not found in axis\""
          ]
        }
      ],
      "source": [
        "# Add a column for TSLA and drop the column for XOM\n",
        "prices.loc[:, 'TSLA'] = yf.download('TSLA', start=start, end=end).Open\n",
        "prices = prices.drop('XOM', axis=1)\n",
        "## Your code goes here\n"
      ]
    },
    {
      "cell_type": "code",
      "source": [
        "prices.head()"
      ],
      "metadata": {
        "id": "z1wdoGs816cm",
        "outputId": "6b777f81-4737-4ad8-8a1c-00a5e05f777e",
        "colab": {
          "base_uri": "https://localhost:8080/",
          "height": 238
        }
      },
      "execution_count": 62,
      "outputs": [
        {
          "output_type": "execute_result",
          "data": {
            "text/plain": [
              "Ticker             BP        COP  TOT      TSLA\n",
              "Date                                           \n",
              "2012-01-03  43.790001  56.350441  NaN  1.929333\n",
              "2012-01-04  44.470001  56.335194  NaN  1.880667\n",
              "2012-01-05  44.250000  55.847309  NaN  1.850667\n",
              "2012-01-06  44.580002  55.999775  NaN  1.813333\n",
              "2012-01-09  44.020000  55.466152  NaN  1.800000"
            ],
            "text/html": [
              "\n",
              "  <div id=\"df-6a6bad00-c971-4cfb-9793-952e29531de6\" class=\"colab-df-container\">\n",
              "    <div>\n",
              "<style scoped>\n",
              "    .dataframe tbody tr th:only-of-type {\n",
              "        vertical-align: middle;\n",
              "    }\n",
              "\n",
              "    .dataframe tbody tr th {\n",
              "        vertical-align: top;\n",
              "    }\n",
              "\n",
              "    .dataframe thead th {\n",
              "        text-align: right;\n",
              "    }\n",
              "</style>\n",
              "<table border=\"1\" class=\"dataframe\">\n",
              "  <thead>\n",
              "    <tr style=\"text-align: right;\">\n",
              "      <th>Ticker</th>\n",
              "      <th>BP</th>\n",
              "      <th>COP</th>\n",
              "      <th>TOT</th>\n",
              "      <th>TSLA</th>\n",
              "    </tr>\n",
              "    <tr>\n",
              "      <th>Date</th>\n",
              "      <th></th>\n",
              "      <th></th>\n",
              "      <th></th>\n",
              "      <th></th>\n",
              "    </tr>\n",
              "  </thead>\n",
              "  <tbody>\n",
              "    <tr>\n",
              "      <th>2012-01-03</th>\n",
              "      <td>43.790001</td>\n",
              "      <td>56.350441</td>\n",
              "      <td>NaN</td>\n",
              "      <td>1.929333</td>\n",
              "    </tr>\n",
              "    <tr>\n",
              "      <th>2012-01-04</th>\n",
              "      <td>44.470001</td>\n",
              "      <td>56.335194</td>\n",
              "      <td>NaN</td>\n",
              "      <td>1.880667</td>\n",
              "    </tr>\n",
              "    <tr>\n",
              "      <th>2012-01-05</th>\n",
              "      <td>44.250000</td>\n",
              "      <td>55.847309</td>\n",
              "      <td>NaN</td>\n",
              "      <td>1.850667</td>\n",
              "    </tr>\n",
              "    <tr>\n",
              "      <th>2012-01-06</th>\n",
              "      <td>44.580002</td>\n",
              "      <td>55.999775</td>\n",
              "      <td>NaN</td>\n",
              "      <td>1.813333</td>\n",
              "    </tr>\n",
              "    <tr>\n",
              "      <th>2012-01-09</th>\n",
              "      <td>44.020000</td>\n",
              "      <td>55.466152</td>\n",
              "      <td>NaN</td>\n",
              "      <td>1.800000</td>\n",
              "    </tr>\n",
              "  </tbody>\n",
              "</table>\n",
              "</div>\n",
              "    <div class=\"colab-df-buttons\">\n",
              "\n",
              "  <div class=\"colab-df-container\">\n",
              "    <button class=\"colab-df-convert\" onclick=\"convertToInteractive('df-6a6bad00-c971-4cfb-9793-952e29531de6')\"\n",
              "            title=\"Convert this dataframe to an interactive table.\"\n",
              "            style=\"display:none;\">\n",
              "\n",
              "  <svg xmlns=\"http://www.w3.org/2000/svg\" height=\"24px\" viewBox=\"0 -960 960 960\">\n",
              "    <path d=\"M120-120v-720h720v720H120Zm60-500h600v-160H180v160Zm220 220h160v-160H400v160Zm0 220h160v-160H400v160ZM180-400h160v-160H180v160Zm440 0h160v-160H620v160ZM180-180h160v-160H180v160Zm440 0h160v-160H620v160Z\"/>\n",
              "  </svg>\n",
              "    </button>\n",
              "\n",
              "  <style>\n",
              "    .colab-df-container {\n",
              "      display:flex;\n",
              "      gap: 12px;\n",
              "    }\n",
              "\n",
              "    .colab-df-convert {\n",
              "      background-color: #E8F0FE;\n",
              "      border: none;\n",
              "      border-radius: 50%;\n",
              "      cursor: pointer;\n",
              "      display: none;\n",
              "      fill: #1967D2;\n",
              "      height: 32px;\n",
              "      padding: 0 0 0 0;\n",
              "      width: 32px;\n",
              "    }\n",
              "\n",
              "    .colab-df-convert:hover {\n",
              "      background-color: #E2EBFA;\n",
              "      box-shadow: 0px 1px 2px rgba(60, 64, 67, 0.3), 0px 1px 3px 1px rgba(60, 64, 67, 0.15);\n",
              "      fill: #174EA6;\n",
              "    }\n",
              "\n",
              "    .colab-df-buttons div {\n",
              "      margin-bottom: 4px;\n",
              "    }\n",
              "\n",
              "    [theme=dark] .colab-df-convert {\n",
              "      background-color: #3B4455;\n",
              "      fill: #D2E3FC;\n",
              "    }\n",
              "\n",
              "    [theme=dark] .colab-df-convert:hover {\n",
              "      background-color: #434B5C;\n",
              "      box-shadow: 0px 1px 3px 1px rgba(0, 0, 0, 0.15);\n",
              "      filter: drop-shadow(0px 1px 2px rgba(0, 0, 0, 0.3));\n",
              "      fill: #FFFFFF;\n",
              "    }\n",
              "  </style>\n",
              "\n",
              "    <script>\n",
              "      const buttonEl =\n",
              "        document.querySelector('#df-6a6bad00-c971-4cfb-9793-952e29531de6 button.colab-df-convert');\n",
              "      buttonEl.style.display =\n",
              "        google.colab.kernel.accessAllowed ? 'block' : 'none';\n",
              "\n",
              "      async function convertToInteractive(key) {\n",
              "        const element = document.querySelector('#df-6a6bad00-c971-4cfb-9793-952e29531de6');\n",
              "        const dataTable =\n",
              "          await google.colab.kernel.invokeFunction('convertToInteractive',\n",
              "                                                    [key], {});\n",
              "        if (!dataTable) return;\n",
              "\n",
              "        const docLinkHtml = 'Like what you see? Visit the ' +\n",
              "          '<a target=\"_blank\" href=https://colab.research.google.com/notebooks/data_table.ipynb>data table notebook</a>'\n",
              "          + ' to learn more about interactive tables.';\n",
              "        element.innerHTML = '';\n",
              "        dataTable['output_type'] = 'display_data';\n",
              "        await google.colab.output.renderOutput(dataTable, element);\n",
              "        const docLink = document.createElement('div');\n",
              "        docLink.innerHTML = docLinkHtml;\n",
              "        element.appendChild(docLink);\n",
              "      }\n",
              "    </script>\n",
              "  </div>\n",
              "\n",
              "\n",
              "<div id=\"df-c69e8461-e2af-4fdb-bf0d-092ed3dd7b0e\">\n",
              "  <button class=\"colab-df-quickchart\" onclick=\"quickchart('df-c69e8461-e2af-4fdb-bf0d-092ed3dd7b0e')\"\n",
              "            title=\"Suggest charts\"\n",
              "            style=\"display:none;\">\n",
              "\n",
              "<svg xmlns=\"http://www.w3.org/2000/svg\" height=\"24px\"viewBox=\"0 0 24 24\"\n",
              "     width=\"24px\">\n",
              "    <g>\n",
              "        <path d=\"M19 3H5c-1.1 0-2 .9-2 2v14c0 1.1.9 2 2 2h14c1.1 0 2-.9 2-2V5c0-1.1-.9-2-2-2zM9 17H7v-7h2v7zm4 0h-2V7h2v10zm4 0h-2v-4h2v4z\"/>\n",
              "    </g>\n",
              "</svg>\n",
              "  </button>\n",
              "\n",
              "<style>\n",
              "  .colab-df-quickchart {\n",
              "      --bg-color: #E8F0FE;\n",
              "      --fill-color: #1967D2;\n",
              "      --hover-bg-color: #E2EBFA;\n",
              "      --hover-fill-color: #174EA6;\n",
              "      --disabled-fill-color: #AAA;\n",
              "      --disabled-bg-color: #DDD;\n",
              "  }\n",
              "\n",
              "  [theme=dark] .colab-df-quickchart {\n",
              "      --bg-color: #3B4455;\n",
              "      --fill-color: #D2E3FC;\n",
              "      --hover-bg-color: #434B5C;\n",
              "      --hover-fill-color: #FFFFFF;\n",
              "      --disabled-bg-color: #3B4455;\n",
              "      --disabled-fill-color: #666;\n",
              "  }\n",
              "\n",
              "  .colab-df-quickchart {\n",
              "    background-color: var(--bg-color);\n",
              "    border: none;\n",
              "    border-radius: 50%;\n",
              "    cursor: pointer;\n",
              "    display: none;\n",
              "    fill: var(--fill-color);\n",
              "    height: 32px;\n",
              "    padding: 0;\n",
              "    width: 32px;\n",
              "  }\n",
              "\n",
              "  .colab-df-quickchart:hover {\n",
              "    background-color: var(--hover-bg-color);\n",
              "    box-shadow: 0 1px 2px rgba(60, 64, 67, 0.3), 0 1px 3px 1px rgba(60, 64, 67, 0.15);\n",
              "    fill: var(--button-hover-fill-color);\n",
              "  }\n",
              "\n",
              "  .colab-df-quickchart-complete:disabled,\n",
              "  .colab-df-quickchart-complete:disabled:hover {\n",
              "    background-color: var(--disabled-bg-color);\n",
              "    fill: var(--disabled-fill-color);\n",
              "    box-shadow: none;\n",
              "  }\n",
              "\n",
              "  .colab-df-spinner {\n",
              "    border: 2px solid var(--fill-color);\n",
              "    border-color: transparent;\n",
              "    border-bottom-color: var(--fill-color);\n",
              "    animation:\n",
              "      spin 1s steps(1) infinite;\n",
              "  }\n",
              "\n",
              "  @keyframes spin {\n",
              "    0% {\n",
              "      border-color: transparent;\n",
              "      border-bottom-color: var(--fill-color);\n",
              "      border-left-color: var(--fill-color);\n",
              "    }\n",
              "    20% {\n",
              "      border-color: transparent;\n",
              "      border-left-color: var(--fill-color);\n",
              "      border-top-color: var(--fill-color);\n",
              "    }\n",
              "    30% {\n",
              "      border-color: transparent;\n",
              "      border-left-color: var(--fill-color);\n",
              "      border-top-color: var(--fill-color);\n",
              "      border-right-color: var(--fill-color);\n",
              "    }\n",
              "    40% {\n",
              "      border-color: transparent;\n",
              "      border-right-color: var(--fill-color);\n",
              "      border-top-color: var(--fill-color);\n",
              "    }\n",
              "    60% {\n",
              "      border-color: transparent;\n",
              "      border-right-color: var(--fill-color);\n",
              "    }\n",
              "    80% {\n",
              "      border-color: transparent;\n",
              "      border-right-color: var(--fill-color);\n",
              "      border-bottom-color: var(--fill-color);\n",
              "    }\n",
              "    90% {\n",
              "      border-color: transparent;\n",
              "      border-bottom-color: var(--fill-color);\n",
              "    }\n",
              "  }\n",
              "</style>\n",
              "\n",
              "  <script>\n",
              "    async function quickchart(key) {\n",
              "      const quickchartButtonEl =\n",
              "        document.querySelector('#' + key + ' button');\n",
              "      quickchartButtonEl.disabled = true;  // To prevent multiple clicks.\n",
              "      quickchartButtonEl.classList.add('colab-df-spinner');\n",
              "      try {\n",
              "        const charts = await google.colab.kernel.invokeFunction(\n",
              "            'suggestCharts', [key], {});\n",
              "      } catch (error) {\n",
              "        console.error('Error during call to suggestCharts:', error);\n",
              "      }\n",
              "      quickchartButtonEl.classList.remove('colab-df-spinner');\n",
              "      quickchartButtonEl.classList.add('colab-df-quickchart-complete');\n",
              "    }\n",
              "    (() => {\n",
              "      let quickchartButtonEl =\n",
              "        document.querySelector('#df-c69e8461-e2af-4fdb-bf0d-092ed3dd7b0e button');\n",
              "      quickchartButtonEl.style.display =\n",
              "        google.colab.kernel.accessAllowed ? 'block' : 'none';\n",
              "    })();\n",
              "  </script>\n",
              "</div>\n",
              "\n",
              "    </div>\n",
              "  </div>\n"
            ],
            "application/vnd.google.colaboratory.intrinsic+json": {
              "type": "dataframe",
              "variable_name": "prices",
              "summary": "{\n  \"name\": \"prices\",\n  \"rows\": 1006,\n  \"fields\": [\n    {\n      \"column\": \"Date\",\n      \"properties\": {\n        \"dtype\": \"date\",\n        \"min\": \"2012-01-03 00:00:00\",\n        \"max\": \"2015-12-31 00:00:00\",\n        \"num_unique_values\": 1006,\n        \"samples\": [\n          \"2015-09-10 00:00:00\",\n          \"2014-07-08 00:00:00\",\n          \"2014-09-19 00:00:00\"\n        ],\n        \"semantic_type\": \"\",\n        \"description\": \"\"\n      }\n    },\n    {\n      \"column\": \"BP\",\n      \"properties\": {\n        \"dtype\": \"number\",\n        \"std\": 4.723451078187214,\n        \"min\": 29.690000534057617,\n        \"max\": 53.45000076293945,\n        \"num_unique_values\": 732,\n        \"samples\": [\n          42.619998931884766,\n          47.45000076293945,\n          41.95000076293945\n        ],\n        \"semantic_type\": \"\",\n        \"description\": \"\"\n      }\n    },\n    {\n      \"column\": \"COP\",\n      \"properties\": {\n        \"dtype\": \"number\",\n        \"std\": 9.170772171628634,\n        \"min\": 41.97999954223633,\n        \"max\": 86.68000030517578,\n        \"num_unique_values\": 861,\n        \"samples\": [\n          67.94999694824219,\n          74.62000274658203,\n          53.88999938964844\n        ],\n        \"semantic_type\": \"\",\n        \"description\": \"\"\n      }\n    },\n    {\n      \"column\": \"TOT\",\n      \"properties\": {\n        \"dtype\": \"number\",\n        \"std\": null,\n        \"min\": null,\n        \"max\": null,\n        \"num_unique_values\": 0,\n        \"samples\": [],\n        \"semantic_type\": \"\",\n        \"description\": \"\"\n      }\n    },\n    {\n      \"column\": \"TSLA\",\n      \"properties\": {\n        \"dtype\": \"number\",\n        \"std\": 5.97861042642293,\n        \"min\": 1.7746670246124268,\n        \"max\": 19.17799949645996,\n        \"num_unique_values\": 937,\n        \"samples\": [],\n        \"semantic_type\": \"\",\n        \"description\": \"\"\n      }\n    }\n  ]\n}"
            }
          },
          "metadata": {},
          "execution_count": 62
        }
      ]
    },
    {
      "cell_type": "markdown",
      "metadata": {
        "deletable": true,
        "editable": true,
        "id": "Ei_wmaDcurxJ"
      },
      "source": [
        "## b. DataFrame Manipulation (again)\n",
        "- Concatenate these DataFrames.\n",
        "- Fill the missing data with 0s"
      ]
    },
    {
      "cell_type": "code",
      "execution_count": 67,
      "metadata": {
        "deletable": true,
        "editable": true,
        "id": "OZLMQBKKurxJ",
        "outputId": "2a3e170f-b46a-4ccb-f20f-32cf4e96d427",
        "colab": {
          "base_uri": "https://localhost:8080/",
          "height": 562
        }
      },
      "outputs": [
        {
          "output_type": "stream",
          "name": "stderr",
          "text": [
            "[*********************100%%**********************]  2 of 2 completed\n",
            "ERROR:yfinance:\n",
            "1 Failed download:\n",
            "ERROR:yfinance:['VXX']: YFChartError(\"%ticker%: Data doesn't exist for startDate = 1325394000, endDate = 1451624400\")\n",
            "[*********************100%%**********************]  3 of 3 completed\n"
          ]
        },
        {
          "output_type": "execute_result",
          "data": {
            "text/plain": [
              "Ticker             SPY  VXX       AAPL       GOOG       MSFT\n",
              "Date                                                        \n",
              "2012-01-03  127.760002  0.0  14.621429  16.262545  26.549999\n",
              "2012-01-04  127.199997  0.0  14.642857  16.563665  26.820000\n",
              "2012-01-05  127.010002  0.0  14.819643  16.491436  27.379999\n",
              "2012-01-06  128.199997  0.0  14.991786  16.417213  27.530001\n",
              "2012-01-09  128.000000  0.0  15.196429  16.102144  28.049999\n",
              "...                ...  ...        ...        ...        ...\n",
              "2015-12-24  205.720001  0.0  27.250000  37.477501  55.860001\n",
              "2015-12-28  204.860001  0.0  26.897499  37.646000  55.349998\n",
              "2015-12-29  206.509995  0.0  26.740000  38.334499  56.290001\n",
              "2015-12-30  207.110001  0.0  27.145000  38.830002  56.470001\n",
              "2015-12-31  205.130005  0.0  26.752501  38.474998  56.040001\n",
              "\n",
              "[1006 rows x 5 columns]"
            ],
            "text/html": [
              "\n",
              "  <div id=\"df-380fa6d0-32af-4895-a932-5310e20dfdf1\" class=\"colab-df-container\">\n",
              "    <div>\n",
              "<style scoped>\n",
              "    .dataframe tbody tr th:only-of-type {\n",
              "        vertical-align: middle;\n",
              "    }\n",
              "\n",
              "    .dataframe tbody tr th {\n",
              "        vertical-align: top;\n",
              "    }\n",
              "\n",
              "    .dataframe thead th {\n",
              "        text-align: right;\n",
              "    }\n",
              "</style>\n",
              "<table border=\"1\" class=\"dataframe\">\n",
              "  <thead>\n",
              "    <tr style=\"text-align: right;\">\n",
              "      <th>Ticker</th>\n",
              "      <th>SPY</th>\n",
              "      <th>VXX</th>\n",
              "      <th>AAPL</th>\n",
              "      <th>GOOG</th>\n",
              "      <th>MSFT</th>\n",
              "    </tr>\n",
              "    <tr>\n",
              "      <th>Date</th>\n",
              "      <th></th>\n",
              "      <th></th>\n",
              "      <th></th>\n",
              "      <th></th>\n",
              "      <th></th>\n",
              "    </tr>\n",
              "  </thead>\n",
              "  <tbody>\n",
              "    <tr>\n",
              "      <th>2012-01-03</th>\n",
              "      <td>127.760002</td>\n",
              "      <td>0.0</td>\n",
              "      <td>14.621429</td>\n",
              "      <td>16.262545</td>\n",
              "      <td>26.549999</td>\n",
              "    </tr>\n",
              "    <tr>\n",
              "      <th>2012-01-04</th>\n",
              "      <td>127.199997</td>\n",
              "      <td>0.0</td>\n",
              "      <td>14.642857</td>\n",
              "      <td>16.563665</td>\n",
              "      <td>26.820000</td>\n",
              "    </tr>\n",
              "    <tr>\n",
              "      <th>2012-01-05</th>\n",
              "      <td>127.010002</td>\n",
              "      <td>0.0</td>\n",
              "      <td>14.819643</td>\n",
              "      <td>16.491436</td>\n",
              "      <td>27.379999</td>\n",
              "    </tr>\n",
              "    <tr>\n",
              "      <th>2012-01-06</th>\n",
              "      <td>128.199997</td>\n",
              "      <td>0.0</td>\n",
              "      <td>14.991786</td>\n",
              "      <td>16.417213</td>\n",
              "      <td>27.530001</td>\n",
              "    </tr>\n",
              "    <tr>\n",
              "      <th>2012-01-09</th>\n",
              "      <td>128.000000</td>\n",
              "      <td>0.0</td>\n",
              "      <td>15.196429</td>\n",
              "      <td>16.102144</td>\n",
              "      <td>28.049999</td>\n",
              "    </tr>\n",
              "    <tr>\n",
              "      <th>...</th>\n",
              "      <td>...</td>\n",
              "      <td>...</td>\n",
              "      <td>...</td>\n",
              "      <td>...</td>\n",
              "      <td>...</td>\n",
              "    </tr>\n",
              "    <tr>\n",
              "      <th>2015-12-24</th>\n",
              "      <td>205.720001</td>\n",
              "      <td>0.0</td>\n",
              "      <td>27.250000</td>\n",
              "      <td>37.477501</td>\n",
              "      <td>55.860001</td>\n",
              "    </tr>\n",
              "    <tr>\n",
              "      <th>2015-12-28</th>\n",
              "      <td>204.860001</td>\n",
              "      <td>0.0</td>\n",
              "      <td>26.897499</td>\n",
              "      <td>37.646000</td>\n",
              "      <td>55.349998</td>\n",
              "    </tr>\n",
              "    <tr>\n",
              "      <th>2015-12-29</th>\n",
              "      <td>206.509995</td>\n",
              "      <td>0.0</td>\n",
              "      <td>26.740000</td>\n",
              "      <td>38.334499</td>\n",
              "      <td>56.290001</td>\n",
              "    </tr>\n",
              "    <tr>\n",
              "      <th>2015-12-30</th>\n",
              "      <td>207.110001</td>\n",
              "      <td>0.0</td>\n",
              "      <td>27.145000</td>\n",
              "      <td>38.830002</td>\n",
              "      <td>56.470001</td>\n",
              "    </tr>\n",
              "    <tr>\n",
              "      <th>2015-12-31</th>\n",
              "      <td>205.130005</td>\n",
              "      <td>0.0</td>\n",
              "      <td>26.752501</td>\n",
              "      <td>38.474998</td>\n",
              "      <td>56.040001</td>\n",
              "    </tr>\n",
              "  </tbody>\n",
              "</table>\n",
              "<p>1006 rows × 5 columns</p>\n",
              "</div>\n",
              "    <div class=\"colab-df-buttons\">\n",
              "\n",
              "  <div class=\"colab-df-container\">\n",
              "    <button class=\"colab-df-convert\" onclick=\"convertToInteractive('df-380fa6d0-32af-4895-a932-5310e20dfdf1')\"\n",
              "            title=\"Convert this dataframe to an interactive table.\"\n",
              "            style=\"display:none;\">\n",
              "\n",
              "  <svg xmlns=\"http://www.w3.org/2000/svg\" height=\"24px\" viewBox=\"0 -960 960 960\">\n",
              "    <path d=\"M120-120v-720h720v720H120Zm60-500h600v-160H180v160Zm220 220h160v-160H400v160Zm0 220h160v-160H400v160ZM180-400h160v-160H180v160Zm440 0h160v-160H620v160ZM180-180h160v-160H180v160Zm440 0h160v-160H620v160Z\"/>\n",
              "  </svg>\n",
              "    </button>\n",
              "\n",
              "  <style>\n",
              "    .colab-df-container {\n",
              "      display:flex;\n",
              "      gap: 12px;\n",
              "    }\n",
              "\n",
              "    .colab-df-convert {\n",
              "      background-color: #E8F0FE;\n",
              "      border: none;\n",
              "      border-radius: 50%;\n",
              "      cursor: pointer;\n",
              "      display: none;\n",
              "      fill: #1967D2;\n",
              "      height: 32px;\n",
              "      padding: 0 0 0 0;\n",
              "      width: 32px;\n",
              "    }\n",
              "\n",
              "    .colab-df-convert:hover {\n",
              "      background-color: #E2EBFA;\n",
              "      box-shadow: 0px 1px 2px rgba(60, 64, 67, 0.3), 0px 1px 3px 1px rgba(60, 64, 67, 0.15);\n",
              "      fill: #174EA6;\n",
              "    }\n",
              "\n",
              "    .colab-df-buttons div {\n",
              "      margin-bottom: 4px;\n",
              "    }\n",
              "\n",
              "    [theme=dark] .colab-df-convert {\n",
              "      background-color: #3B4455;\n",
              "      fill: #D2E3FC;\n",
              "    }\n",
              "\n",
              "    [theme=dark] .colab-df-convert:hover {\n",
              "      background-color: #434B5C;\n",
              "      box-shadow: 0px 1px 3px 1px rgba(0, 0, 0, 0.15);\n",
              "      filter: drop-shadow(0px 1px 2px rgba(0, 0, 0, 0.3));\n",
              "      fill: #FFFFFF;\n",
              "    }\n",
              "  </style>\n",
              "\n",
              "    <script>\n",
              "      const buttonEl =\n",
              "        document.querySelector('#df-380fa6d0-32af-4895-a932-5310e20dfdf1 button.colab-df-convert');\n",
              "      buttonEl.style.display =\n",
              "        google.colab.kernel.accessAllowed ? 'block' : 'none';\n",
              "\n",
              "      async function convertToInteractive(key) {\n",
              "        const element = document.querySelector('#df-380fa6d0-32af-4895-a932-5310e20dfdf1');\n",
              "        const dataTable =\n",
              "          await google.colab.kernel.invokeFunction('convertToInteractive',\n",
              "                                                    [key], {});\n",
              "        if (!dataTable) return;\n",
              "\n",
              "        const docLinkHtml = 'Like what you see? Visit the ' +\n",
              "          '<a target=\"_blank\" href=https://colab.research.google.com/notebooks/data_table.ipynb>data table notebook</a>'\n",
              "          + ' to learn more about interactive tables.';\n",
              "        element.innerHTML = '';\n",
              "        dataTable['output_type'] = 'display_data';\n",
              "        await google.colab.output.renderOutput(dataTable, element);\n",
              "        const docLink = document.createElement('div');\n",
              "        docLink.innerHTML = docLinkHtml;\n",
              "        element.appendChild(docLink);\n",
              "      }\n",
              "    </script>\n",
              "  </div>\n",
              "\n",
              "\n",
              "<div id=\"df-78cd8d43-a2fc-4853-aae4-1d15c7ca207d\">\n",
              "  <button class=\"colab-df-quickchart\" onclick=\"quickchart('df-78cd8d43-a2fc-4853-aae4-1d15c7ca207d')\"\n",
              "            title=\"Suggest charts\"\n",
              "            style=\"display:none;\">\n",
              "\n",
              "<svg xmlns=\"http://www.w3.org/2000/svg\" height=\"24px\"viewBox=\"0 0 24 24\"\n",
              "     width=\"24px\">\n",
              "    <g>\n",
              "        <path d=\"M19 3H5c-1.1 0-2 .9-2 2v14c0 1.1.9 2 2 2h14c1.1 0 2-.9 2-2V5c0-1.1-.9-2-2-2zM9 17H7v-7h2v7zm4 0h-2V7h2v10zm4 0h-2v-4h2v4z\"/>\n",
              "    </g>\n",
              "</svg>\n",
              "  </button>\n",
              "\n",
              "<style>\n",
              "  .colab-df-quickchart {\n",
              "      --bg-color: #E8F0FE;\n",
              "      --fill-color: #1967D2;\n",
              "      --hover-bg-color: #E2EBFA;\n",
              "      --hover-fill-color: #174EA6;\n",
              "      --disabled-fill-color: #AAA;\n",
              "      --disabled-bg-color: #DDD;\n",
              "  }\n",
              "\n",
              "  [theme=dark] .colab-df-quickchart {\n",
              "      --bg-color: #3B4455;\n",
              "      --fill-color: #D2E3FC;\n",
              "      --hover-bg-color: #434B5C;\n",
              "      --hover-fill-color: #FFFFFF;\n",
              "      --disabled-bg-color: #3B4455;\n",
              "      --disabled-fill-color: #666;\n",
              "  }\n",
              "\n",
              "  .colab-df-quickchart {\n",
              "    background-color: var(--bg-color);\n",
              "    border: none;\n",
              "    border-radius: 50%;\n",
              "    cursor: pointer;\n",
              "    display: none;\n",
              "    fill: var(--fill-color);\n",
              "    height: 32px;\n",
              "    padding: 0;\n",
              "    width: 32px;\n",
              "  }\n",
              "\n",
              "  .colab-df-quickchart:hover {\n",
              "    background-color: var(--hover-bg-color);\n",
              "    box-shadow: 0 1px 2px rgba(60, 64, 67, 0.3), 0 1px 3px 1px rgba(60, 64, 67, 0.15);\n",
              "    fill: var(--button-hover-fill-color);\n",
              "  }\n",
              "\n",
              "  .colab-df-quickchart-complete:disabled,\n",
              "  .colab-df-quickchart-complete:disabled:hover {\n",
              "    background-color: var(--disabled-bg-color);\n",
              "    fill: var(--disabled-fill-color);\n",
              "    box-shadow: none;\n",
              "  }\n",
              "\n",
              "  .colab-df-spinner {\n",
              "    border: 2px solid var(--fill-color);\n",
              "    border-color: transparent;\n",
              "    border-bottom-color: var(--fill-color);\n",
              "    animation:\n",
              "      spin 1s steps(1) infinite;\n",
              "  }\n",
              "\n",
              "  @keyframes spin {\n",
              "    0% {\n",
              "      border-color: transparent;\n",
              "      border-bottom-color: var(--fill-color);\n",
              "      border-left-color: var(--fill-color);\n",
              "    }\n",
              "    20% {\n",
              "      border-color: transparent;\n",
              "      border-left-color: var(--fill-color);\n",
              "      border-top-color: var(--fill-color);\n",
              "    }\n",
              "    30% {\n",
              "      border-color: transparent;\n",
              "      border-left-color: var(--fill-color);\n",
              "      border-top-color: var(--fill-color);\n",
              "      border-right-color: var(--fill-color);\n",
              "    }\n",
              "    40% {\n",
              "      border-color: transparent;\n",
              "      border-right-color: var(--fill-color);\n",
              "      border-top-color: var(--fill-color);\n",
              "    }\n",
              "    60% {\n",
              "      border-color: transparent;\n",
              "      border-right-color: var(--fill-color);\n",
              "    }\n",
              "    80% {\n",
              "      border-color: transparent;\n",
              "      border-right-color: var(--fill-color);\n",
              "      border-bottom-color: var(--fill-color);\n",
              "    }\n",
              "    90% {\n",
              "      border-color: transparent;\n",
              "      border-bottom-color: var(--fill-color);\n",
              "    }\n",
              "  }\n",
              "</style>\n",
              "\n",
              "  <script>\n",
              "    async function quickchart(key) {\n",
              "      const quickchartButtonEl =\n",
              "        document.querySelector('#' + key + ' button');\n",
              "      quickchartButtonEl.disabled = true;  // To prevent multiple clicks.\n",
              "      quickchartButtonEl.classList.add('colab-df-spinner');\n",
              "      try {\n",
              "        const charts = await google.colab.kernel.invokeFunction(\n",
              "            'suggestCharts', [key], {});\n",
              "      } catch (error) {\n",
              "        console.error('Error during call to suggestCharts:', error);\n",
              "      }\n",
              "      quickchartButtonEl.classList.remove('colab-df-spinner');\n",
              "      quickchartButtonEl.classList.add('colab-df-quickchart-complete');\n",
              "    }\n",
              "    (() => {\n",
              "      let quickchartButtonEl =\n",
              "        document.querySelector('#df-78cd8d43-a2fc-4853-aae4-1d15c7ca207d button');\n",
              "      quickchartButtonEl.style.display =\n",
              "        google.colab.kernel.accessAllowed ? 'block' : 'none';\n",
              "    })();\n",
              "  </script>\n",
              "</div>\n",
              "\n",
              "    </div>\n",
              "  </div>\n"
            ],
            "application/vnd.google.colaboratory.intrinsic+json": {
              "type": "dataframe",
              "summary": "{\n  \"name\": \"df_3\",\n  \"rows\": 1006,\n  \"fields\": [\n    {\n      \"column\": \"Date\",\n      \"properties\": {\n        \"dtype\": \"date\",\n        \"min\": \"2012-01-03 00:00:00\",\n        \"max\": \"2015-12-31 00:00:00\",\n        \"num_unique_values\": 1006,\n        \"samples\": [\n          \"2015-09-10 00:00:00\",\n          \"2014-07-08 00:00:00\",\n          \"2014-09-19 00:00:00\"\n        ],\n        \"semantic_type\": \"\",\n        \"description\": \"\"\n      }\n    },\n    {\n      \"column\": \"SPY\",\n      \"properties\": {\n        \"dtype\": \"number\",\n        \"std\": 27.346387240039082,\n        \"min\": 127.01000213623047,\n        \"max\": 213.24000549316406,\n        \"num_unique_values\": 944,\n        \"samples\": [\n          132.6300048828125,\n          153.13999938964844,\n          211.25\n        ],\n        \"semantic_type\": \"\",\n        \"description\": \"\"\n      }\n    },\n    {\n      \"column\": \"VXX\",\n      \"properties\": {\n        \"dtype\": \"number\",\n        \"std\": 0.0,\n        \"min\": 0.0,\n        \"max\": 0.0,\n        \"num_unique_values\": 1,\n        \"samples\": [\n          0.0\n        ],\n        \"semantic_type\": \"\",\n        \"description\": \"\"\n      }\n    },\n    {\n      \"column\": \"AAPL\",\n      \"properties\": {\n        \"dtype\": \"number\",\n        \"std\": 5.376092214019883,\n        \"min\": 13.856071472167969,\n        \"max\": 33.6150016784668,\n        \"num_unique_values\": 967,\n        \"samples\": [\n          18.22464370727539\n        ],\n        \"semantic_type\": \"\",\n        \"description\": \"\"\n      }\n    },\n    {\n      \"column\": \"GOOG\",\n      \"properties\": {\n        \"dtype\": \"number\",\n        \"std\": 6.067749437252218,\n        \"min\": 13.956189155578613,\n        \"max\": 38.83000183105469,\n        \"num_unique_values\": 981,\n        \"samples\": [\n          27.803165435791016\n        ],\n        \"semantic_type\": \"\",\n        \"description\": \"\"\n      }\n    },\n    {\n      \"column\": \"MSFT\",\n      \"properties\": {\n        \"dtype\": \"number\",\n        \"std\": 7.75300670020539,\n        \"min\": 26.3799991607666,\n        \"max\": 56.470001220703125,\n        \"num_unique_values\": 804,\n        \"samples\": [\n          26.59000015258789\n        ],\n        \"semantic_type\": \"\",\n        \"description\": \"\"\n      }\n    }\n  ]\n}"
            }
          },
          "metadata": {},
          "execution_count": 67
        }
      ],
      "source": [
        "# Concatenate these dataframes\n",
        "df_1 = yf.download(['SPY', 'VXX'], start=start, end=end).Open\n",
        "df_2 = yf.download(['MSFT', 'AAPL', 'GOOG'], start=start, end=end).Open\n",
        "\n",
        "## Your code goes here\n",
        "df_3 = pd.concat([df_1, df_2], axis=1)\n",
        "df_3.fillna(0)"
      ]
    },
    {
      "cell_type": "code",
      "execution_count": null,
      "metadata": {
        "collapsed": true,
        "deletable": true,
        "editable": true,
        "id": "1W23EHYRurxJ"
      },
      "outputs": [],
      "source": [
        "# Fill GOOG missing data with 0\n",
        "\n",
        "## Your code goes here"
      ]
    },
    {
      "cell_type": "markdown",
      "metadata": {
        "deletable": true,
        "editable": true,
        "id": "6rF8nNEFurxJ"
      },
      "source": [
        "----"
      ]
    },
    {
      "cell_type": "markdown",
      "metadata": {
        "deletable": true,
        "editable": true,
        "id": "SMQe22REurxJ"
      },
      "source": [
        "# Exercise 8 : Time Series Analysis\n",
        "## a. Summary\n",
        "- Print out a summary of the `prices` DataFrame from above.\n",
        "- Take the log returns and print the first 10 values.\n",
        "- Print the multiplicative returns of each company.\n",
        "- Normalize and plot the returns from 2014 to 2015.\n",
        "- Plot a 60 day window rolling mean of the prices.\n",
        "- Plot a 60 day window rolling standfard deviation of the prices."
      ]
    },
    {
      "cell_type": "code",
      "execution_count": 68,
      "metadata": {
        "deletable": true,
        "editable": true,
        "id": "zAlCQNQWurxJ",
        "outputId": "bd0f65ce-99b6-4446-eac7-0e01739adfdd",
        "colab": {
          "base_uri": "https://localhost:8080/",
          "height": 300
        }
      },
      "outputs": [
        {
          "output_type": "execute_result",
          "data": {
            "text/plain": [
              "Ticker           BP          COP  TOT         TSLA\n",
              "count   1006.000000  1006.000000  0.0  1006.000000\n",
              "mean      42.462952    63.267325  NaN     9.829824\n",
              "std        4.723451     9.170772  NaN     5.978610\n",
              "min       29.690001    41.980000  NaN     1.774667\n",
              "25%       40.442499    56.452499  NaN     2.333667\n",
              "50%       42.110001    62.199999  NaN    11.834667\n",
              "75%       45.817500    69.287498  NaN    15.177000\n",
              "max       53.450001    86.680000  NaN    19.177999"
            ],
            "text/html": [
              "\n",
              "  <div id=\"df-9c8b3761-b2b9-4e13-ac93-ece7ff57093c\" class=\"colab-df-container\">\n",
              "    <div>\n",
              "<style scoped>\n",
              "    .dataframe tbody tr th:only-of-type {\n",
              "        vertical-align: middle;\n",
              "    }\n",
              "\n",
              "    .dataframe tbody tr th {\n",
              "        vertical-align: top;\n",
              "    }\n",
              "\n",
              "    .dataframe thead th {\n",
              "        text-align: right;\n",
              "    }\n",
              "</style>\n",
              "<table border=\"1\" class=\"dataframe\">\n",
              "  <thead>\n",
              "    <tr style=\"text-align: right;\">\n",
              "      <th>Ticker</th>\n",
              "      <th>BP</th>\n",
              "      <th>COP</th>\n",
              "      <th>TOT</th>\n",
              "      <th>TSLA</th>\n",
              "    </tr>\n",
              "  </thead>\n",
              "  <tbody>\n",
              "    <tr>\n",
              "      <th>count</th>\n",
              "      <td>1006.000000</td>\n",
              "      <td>1006.000000</td>\n",
              "      <td>0.0</td>\n",
              "      <td>1006.000000</td>\n",
              "    </tr>\n",
              "    <tr>\n",
              "      <th>mean</th>\n",
              "      <td>42.462952</td>\n",
              "      <td>63.267325</td>\n",
              "      <td>NaN</td>\n",
              "      <td>9.829824</td>\n",
              "    </tr>\n",
              "    <tr>\n",
              "      <th>std</th>\n",
              "      <td>4.723451</td>\n",
              "      <td>9.170772</td>\n",
              "      <td>NaN</td>\n",
              "      <td>5.978610</td>\n",
              "    </tr>\n",
              "    <tr>\n",
              "      <th>min</th>\n",
              "      <td>29.690001</td>\n",
              "      <td>41.980000</td>\n",
              "      <td>NaN</td>\n",
              "      <td>1.774667</td>\n",
              "    </tr>\n",
              "    <tr>\n",
              "      <th>25%</th>\n",
              "      <td>40.442499</td>\n",
              "      <td>56.452499</td>\n",
              "      <td>NaN</td>\n",
              "      <td>2.333667</td>\n",
              "    </tr>\n",
              "    <tr>\n",
              "      <th>50%</th>\n",
              "      <td>42.110001</td>\n",
              "      <td>62.199999</td>\n",
              "      <td>NaN</td>\n",
              "      <td>11.834667</td>\n",
              "    </tr>\n",
              "    <tr>\n",
              "      <th>75%</th>\n",
              "      <td>45.817500</td>\n",
              "      <td>69.287498</td>\n",
              "      <td>NaN</td>\n",
              "      <td>15.177000</td>\n",
              "    </tr>\n",
              "    <tr>\n",
              "      <th>max</th>\n",
              "      <td>53.450001</td>\n",
              "      <td>86.680000</td>\n",
              "      <td>NaN</td>\n",
              "      <td>19.177999</td>\n",
              "    </tr>\n",
              "  </tbody>\n",
              "</table>\n",
              "</div>\n",
              "    <div class=\"colab-df-buttons\">\n",
              "\n",
              "  <div class=\"colab-df-container\">\n",
              "    <button class=\"colab-df-convert\" onclick=\"convertToInteractive('df-9c8b3761-b2b9-4e13-ac93-ece7ff57093c')\"\n",
              "            title=\"Convert this dataframe to an interactive table.\"\n",
              "            style=\"display:none;\">\n",
              "\n",
              "  <svg xmlns=\"http://www.w3.org/2000/svg\" height=\"24px\" viewBox=\"0 -960 960 960\">\n",
              "    <path d=\"M120-120v-720h720v720H120Zm60-500h600v-160H180v160Zm220 220h160v-160H400v160Zm0 220h160v-160H400v160ZM180-400h160v-160H180v160Zm440 0h160v-160H620v160ZM180-180h160v-160H180v160Zm440 0h160v-160H620v160Z\"/>\n",
              "  </svg>\n",
              "    </button>\n",
              "\n",
              "  <style>\n",
              "    .colab-df-container {\n",
              "      display:flex;\n",
              "      gap: 12px;\n",
              "    }\n",
              "\n",
              "    .colab-df-convert {\n",
              "      background-color: #E8F0FE;\n",
              "      border: none;\n",
              "      border-radius: 50%;\n",
              "      cursor: pointer;\n",
              "      display: none;\n",
              "      fill: #1967D2;\n",
              "      height: 32px;\n",
              "      padding: 0 0 0 0;\n",
              "      width: 32px;\n",
              "    }\n",
              "\n",
              "    .colab-df-convert:hover {\n",
              "      background-color: #E2EBFA;\n",
              "      box-shadow: 0px 1px 2px rgba(60, 64, 67, 0.3), 0px 1px 3px 1px rgba(60, 64, 67, 0.15);\n",
              "      fill: #174EA6;\n",
              "    }\n",
              "\n",
              "    .colab-df-buttons div {\n",
              "      margin-bottom: 4px;\n",
              "    }\n",
              "\n",
              "    [theme=dark] .colab-df-convert {\n",
              "      background-color: #3B4455;\n",
              "      fill: #D2E3FC;\n",
              "    }\n",
              "\n",
              "    [theme=dark] .colab-df-convert:hover {\n",
              "      background-color: #434B5C;\n",
              "      box-shadow: 0px 1px 3px 1px rgba(0, 0, 0, 0.15);\n",
              "      filter: drop-shadow(0px 1px 2px rgba(0, 0, 0, 0.3));\n",
              "      fill: #FFFFFF;\n",
              "    }\n",
              "  </style>\n",
              "\n",
              "    <script>\n",
              "      const buttonEl =\n",
              "        document.querySelector('#df-9c8b3761-b2b9-4e13-ac93-ece7ff57093c button.colab-df-convert');\n",
              "      buttonEl.style.display =\n",
              "        google.colab.kernel.accessAllowed ? 'block' : 'none';\n",
              "\n",
              "      async function convertToInteractive(key) {\n",
              "        const element = document.querySelector('#df-9c8b3761-b2b9-4e13-ac93-ece7ff57093c');\n",
              "        const dataTable =\n",
              "          await google.colab.kernel.invokeFunction('convertToInteractive',\n",
              "                                                    [key], {});\n",
              "        if (!dataTable) return;\n",
              "\n",
              "        const docLinkHtml = 'Like what you see? Visit the ' +\n",
              "          '<a target=\"_blank\" href=https://colab.research.google.com/notebooks/data_table.ipynb>data table notebook</a>'\n",
              "          + ' to learn more about interactive tables.';\n",
              "        element.innerHTML = '';\n",
              "        dataTable['output_type'] = 'display_data';\n",
              "        await google.colab.output.renderOutput(dataTable, element);\n",
              "        const docLink = document.createElement('div');\n",
              "        docLink.innerHTML = docLinkHtml;\n",
              "        element.appendChild(docLink);\n",
              "      }\n",
              "    </script>\n",
              "  </div>\n",
              "\n",
              "\n",
              "<div id=\"df-42bf1e4a-c567-4bb6-8408-35427f5671cd\">\n",
              "  <button class=\"colab-df-quickchart\" onclick=\"quickchart('df-42bf1e4a-c567-4bb6-8408-35427f5671cd')\"\n",
              "            title=\"Suggest charts\"\n",
              "            style=\"display:none;\">\n",
              "\n",
              "<svg xmlns=\"http://www.w3.org/2000/svg\" height=\"24px\"viewBox=\"0 0 24 24\"\n",
              "     width=\"24px\">\n",
              "    <g>\n",
              "        <path d=\"M19 3H5c-1.1 0-2 .9-2 2v14c0 1.1.9 2 2 2h14c1.1 0 2-.9 2-2V5c0-1.1-.9-2-2-2zM9 17H7v-7h2v7zm4 0h-2V7h2v10zm4 0h-2v-4h2v4z\"/>\n",
              "    </g>\n",
              "</svg>\n",
              "  </button>\n",
              "\n",
              "<style>\n",
              "  .colab-df-quickchart {\n",
              "      --bg-color: #E8F0FE;\n",
              "      --fill-color: #1967D2;\n",
              "      --hover-bg-color: #E2EBFA;\n",
              "      --hover-fill-color: #174EA6;\n",
              "      --disabled-fill-color: #AAA;\n",
              "      --disabled-bg-color: #DDD;\n",
              "  }\n",
              "\n",
              "  [theme=dark] .colab-df-quickchart {\n",
              "      --bg-color: #3B4455;\n",
              "      --fill-color: #D2E3FC;\n",
              "      --hover-bg-color: #434B5C;\n",
              "      --hover-fill-color: #FFFFFF;\n",
              "      --disabled-bg-color: #3B4455;\n",
              "      --disabled-fill-color: #666;\n",
              "  }\n",
              "\n",
              "  .colab-df-quickchart {\n",
              "    background-color: var(--bg-color);\n",
              "    border: none;\n",
              "    border-radius: 50%;\n",
              "    cursor: pointer;\n",
              "    display: none;\n",
              "    fill: var(--fill-color);\n",
              "    height: 32px;\n",
              "    padding: 0;\n",
              "    width: 32px;\n",
              "  }\n",
              "\n",
              "  .colab-df-quickchart:hover {\n",
              "    background-color: var(--hover-bg-color);\n",
              "    box-shadow: 0 1px 2px rgba(60, 64, 67, 0.3), 0 1px 3px 1px rgba(60, 64, 67, 0.15);\n",
              "    fill: var(--button-hover-fill-color);\n",
              "  }\n",
              "\n",
              "  .colab-df-quickchart-complete:disabled,\n",
              "  .colab-df-quickchart-complete:disabled:hover {\n",
              "    background-color: var(--disabled-bg-color);\n",
              "    fill: var(--disabled-fill-color);\n",
              "    box-shadow: none;\n",
              "  }\n",
              "\n",
              "  .colab-df-spinner {\n",
              "    border: 2px solid var(--fill-color);\n",
              "    border-color: transparent;\n",
              "    border-bottom-color: var(--fill-color);\n",
              "    animation:\n",
              "      spin 1s steps(1) infinite;\n",
              "  }\n",
              "\n",
              "  @keyframes spin {\n",
              "    0% {\n",
              "      border-color: transparent;\n",
              "      border-bottom-color: var(--fill-color);\n",
              "      border-left-color: var(--fill-color);\n",
              "    }\n",
              "    20% {\n",
              "      border-color: transparent;\n",
              "      border-left-color: var(--fill-color);\n",
              "      border-top-color: var(--fill-color);\n",
              "    }\n",
              "    30% {\n",
              "      border-color: transparent;\n",
              "      border-left-color: var(--fill-color);\n",
              "      border-top-color: var(--fill-color);\n",
              "      border-right-color: var(--fill-color);\n",
              "    }\n",
              "    40% {\n",
              "      border-color: transparent;\n",
              "      border-right-color: var(--fill-color);\n",
              "      border-top-color: var(--fill-color);\n",
              "    }\n",
              "    60% {\n",
              "      border-color: transparent;\n",
              "      border-right-color: var(--fill-color);\n",
              "    }\n",
              "    80% {\n",
              "      border-color: transparent;\n",
              "      border-right-color: var(--fill-color);\n",
              "      border-bottom-color: var(--fill-color);\n",
              "    }\n",
              "    90% {\n",
              "      border-color: transparent;\n",
              "      border-bottom-color: var(--fill-color);\n",
              "    }\n",
              "  }\n",
              "</style>\n",
              "\n",
              "  <script>\n",
              "    async function quickchart(key) {\n",
              "      const quickchartButtonEl =\n",
              "        document.querySelector('#' + key + ' button');\n",
              "      quickchartButtonEl.disabled = true;  // To prevent multiple clicks.\n",
              "      quickchartButtonEl.classList.add('colab-df-spinner');\n",
              "      try {\n",
              "        const charts = await google.colab.kernel.invokeFunction(\n",
              "            'suggestCharts', [key], {});\n",
              "      } catch (error) {\n",
              "        console.error('Error during call to suggestCharts:', error);\n",
              "      }\n",
              "      quickchartButtonEl.classList.remove('colab-df-spinner');\n",
              "      quickchartButtonEl.classList.add('colab-df-quickchart-complete');\n",
              "    }\n",
              "    (() => {\n",
              "      let quickchartButtonEl =\n",
              "        document.querySelector('#df-42bf1e4a-c567-4bb6-8408-35427f5671cd button');\n",
              "      quickchartButtonEl.style.display =\n",
              "        google.colab.kernel.accessAllowed ? 'block' : 'none';\n",
              "    })();\n",
              "  </script>\n",
              "</div>\n",
              "\n",
              "    </div>\n",
              "  </div>\n"
            ],
            "application/vnd.google.colaboratory.intrinsic+json": {
              "type": "dataframe",
              "summary": "{\n  \"name\": \"prices\",\n  \"rows\": 8,\n  \"fields\": [\n    {\n      \"column\": \"BP\",\n      \"properties\": {\n        \"dtype\": \"number\",\n        \"std\": 342.9235189113753,\n        \"min\": 4.723451078187214,\n        \"max\": 1006.0,\n        \"num_unique_values\": 8,\n        \"samples\": [\n          42.46295232753867,\n          42.11000061035156,\n          1006.0\n        ],\n        \"semantic_type\": \"\",\n        \"description\": \"\"\n      }\n    },\n    {\n      \"column\": \"COP\",\n      \"properties\": {\n        \"dtype\": \"number\",\n        \"std\": 336.7891820398718,\n        \"min\": 9.170772171628634,\n        \"max\": 1006.0,\n        \"num_unique_values\": 8,\n        \"samples\": [\n          63.26732469790024,\n          62.19999885559082,\n          1006.0\n        ],\n        \"semantic_type\": \"\",\n        \"description\": \"\"\n      }\n    },\n    {\n      \"column\": \"TOT\",\n      \"properties\": {\n        \"dtype\": \"number\",\n        \"std\": null,\n        \"min\": 0.0,\n        \"max\": 0.0,\n        \"num_unique_values\": 1,\n        \"samples\": [\n          0.0\n        ],\n        \"semantic_type\": \"\",\n        \"description\": \"\"\n      }\n    },\n    {\n      \"column\": \"TSLA\",\n      \"properties\": {\n        \"dtype\": \"number\",\n        \"std\": 352.3874967484456,\n        \"min\": 1.7746670246124268,\n        \"max\": 1006.0,\n        \"num_unique_values\": 8,\n        \"samples\": [\n          9.829824398336543\n        ],\n        \"semantic_type\": \"\",\n        \"description\": \"\"\n      }\n    }\n  ]\n}"
            }
          },
          "metadata": {},
          "execution_count": 68
        }
      ],
      "source": [
        "# Print a summary of the 'prices' times series.\n",
        "## Your code goes here\n",
        "prices.describe()"
      ]
    },
    {
      "cell_type": "code",
      "execution_count": 69,
      "metadata": {
        "deletable": true,
        "editable": true,
        "id": "ChcvT5G_urxJ",
        "outputId": "9373fba4-5ee1-4a41-a999-5aaaac0112c1",
        "colab": {
          "base_uri": "https://localhost:8080/",
          "height": 394
        }
      },
      "outputs": [
        {
          "output_type": "execute_result",
          "data": {
            "text/plain": [
              "Ticker            BP       COP  TOT      TSLA\n",
              "Date                                         \n",
              "2012-01-03  3.779406  4.031590  NaN  0.657174\n",
              "2012-01-04  3.794815  4.031319  NaN  0.631626\n",
              "2012-01-05  3.789855  4.022621  NaN  0.615546\n",
              "2012-01-06  3.797285  4.025348  NaN  0.595167\n",
              "2012-01-09  3.784644  4.015773  NaN  0.587787\n",
              "2012-01-10  3.800421  4.026572  NaN  0.603951\n",
              "2012-01-11  3.777806  4.017421  NaN  0.610490\n",
              "2012-01-12  3.782142  3.997605  NaN  0.641152\n",
              "2012-01-13  3.772301  3.982658  NaN  0.638339\n",
              "2012-01-17  3.799526  3.991287  NaN  0.573613"
            ],
            "text/html": [
              "\n",
              "  <div id=\"df-699060ac-0785-486f-a530-3778d44e3824\" class=\"colab-df-container\">\n",
              "    <div>\n",
              "<style scoped>\n",
              "    .dataframe tbody tr th:only-of-type {\n",
              "        vertical-align: middle;\n",
              "    }\n",
              "\n",
              "    .dataframe tbody tr th {\n",
              "        vertical-align: top;\n",
              "    }\n",
              "\n",
              "    .dataframe thead th {\n",
              "        text-align: right;\n",
              "    }\n",
              "</style>\n",
              "<table border=\"1\" class=\"dataframe\">\n",
              "  <thead>\n",
              "    <tr style=\"text-align: right;\">\n",
              "      <th>Ticker</th>\n",
              "      <th>BP</th>\n",
              "      <th>COP</th>\n",
              "      <th>TOT</th>\n",
              "      <th>TSLA</th>\n",
              "    </tr>\n",
              "    <tr>\n",
              "      <th>Date</th>\n",
              "      <th></th>\n",
              "      <th></th>\n",
              "      <th></th>\n",
              "      <th></th>\n",
              "    </tr>\n",
              "  </thead>\n",
              "  <tbody>\n",
              "    <tr>\n",
              "      <th>2012-01-03</th>\n",
              "      <td>3.779406</td>\n",
              "      <td>4.031590</td>\n",
              "      <td>NaN</td>\n",
              "      <td>0.657174</td>\n",
              "    </tr>\n",
              "    <tr>\n",
              "      <th>2012-01-04</th>\n",
              "      <td>3.794815</td>\n",
              "      <td>4.031319</td>\n",
              "      <td>NaN</td>\n",
              "      <td>0.631626</td>\n",
              "    </tr>\n",
              "    <tr>\n",
              "      <th>2012-01-05</th>\n",
              "      <td>3.789855</td>\n",
              "      <td>4.022621</td>\n",
              "      <td>NaN</td>\n",
              "      <td>0.615546</td>\n",
              "    </tr>\n",
              "    <tr>\n",
              "      <th>2012-01-06</th>\n",
              "      <td>3.797285</td>\n",
              "      <td>4.025348</td>\n",
              "      <td>NaN</td>\n",
              "      <td>0.595167</td>\n",
              "    </tr>\n",
              "    <tr>\n",
              "      <th>2012-01-09</th>\n",
              "      <td>3.784644</td>\n",
              "      <td>4.015773</td>\n",
              "      <td>NaN</td>\n",
              "      <td>0.587787</td>\n",
              "    </tr>\n",
              "    <tr>\n",
              "      <th>2012-01-10</th>\n",
              "      <td>3.800421</td>\n",
              "      <td>4.026572</td>\n",
              "      <td>NaN</td>\n",
              "      <td>0.603951</td>\n",
              "    </tr>\n",
              "    <tr>\n",
              "      <th>2012-01-11</th>\n",
              "      <td>3.777806</td>\n",
              "      <td>4.017421</td>\n",
              "      <td>NaN</td>\n",
              "      <td>0.610490</td>\n",
              "    </tr>\n",
              "    <tr>\n",
              "      <th>2012-01-12</th>\n",
              "      <td>3.782142</td>\n",
              "      <td>3.997605</td>\n",
              "      <td>NaN</td>\n",
              "      <td>0.641152</td>\n",
              "    </tr>\n",
              "    <tr>\n",
              "      <th>2012-01-13</th>\n",
              "      <td>3.772301</td>\n",
              "      <td>3.982658</td>\n",
              "      <td>NaN</td>\n",
              "      <td>0.638339</td>\n",
              "    </tr>\n",
              "    <tr>\n",
              "      <th>2012-01-17</th>\n",
              "      <td>3.799526</td>\n",
              "      <td>3.991287</td>\n",
              "      <td>NaN</td>\n",
              "      <td>0.573613</td>\n",
              "    </tr>\n",
              "  </tbody>\n",
              "</table>\n",
              "</div>\n",
              "    <div class=\"colab-df-buttons\">\n",
              "\n",
              "  <div class=\"colab-df-container\">\n",
              "    <button class=\"colab-df-convert\" onclick=\"convertToInteractive('df-699060ac-0785-486f-a530-3778d44e3824')\"\n",
              "            title=\"Convert this dataframe to an interactive table.\"\n",
              "            style=\"display:none;\">\n",
              "\n",
              "  <svg xmlns=\"http://www.w3.org/2000/svg\" height=\"24px\" viewBox=\"0 -960 960 960\">\n",
              "    <path d=\"M120-120v-720h720v720H120Zm60-500h600v-160H180v160Zm220 220h160v-160H400v160Zm0 220h160v-160H400v160ZM180-400h160v-160H180v160Zm440 0h160v-160H620v160ZM180-180h160v-160H180v160Zm440 0h160v-160H620v160Z\"/>\n",
              "  </svg>\n",
              "    </button>\n",
              "\n",
              "  <style>\n",
              "    .colab-df-container {\n",
              "      display:flex;\n",
              "      gap: 12px;\n",
              "    }\n",
              "\n",
              "    .colab-df-convert {\n",
              "      background-color: #E8F0FE;\n",
              "      border: none;\n",
              "      border-radius: 50%;\n",
              "      cursor: pointer;\n",
              "      display: none;\n",
              "      fill: #1967D2;\n",
              "      height: 32px;\n",
              "      padding: 0 0 0 0;\n",
              "      width: 32px;\n",
              "    }\n",
              "\n",
              "    .colab-df-convert:hover {\n",
              "      background-color: #E2EBFA;\n",
              "      box-shadow: 0px 1px 2px rgba(60, 64, 67, 0.3), 0px 1px 3px 1px rgba(60, 64, 67, 0.15);\n",
              "      fill: #174EA6;\n",
              "    }\n",
              "\n",
              "    .colab-df-buttons div {\n",
              "      margin-bottom: 4px;\n",
              "    }\n",
              "\n",
              "    [theme=dark] .colab-df-convert {\n",
              "      background-color: #3B4455;\n",
              "      fill: #D2E3FC;\n",
              "    }\n",
              "\n",
              "    [theme=dark] .colab-df-convert:hover {\n",
              "      background-color: #434B5C;\n",
              "      box-shadow: 0px 1px 3px 1px rgba(0, 0, 0, 0.15);\n",
              "      filter: drop-shadow(0px 1px 2px rgba(0, 0, 0, 0.3));\n",
              "      fill: #FFFFFF;\n",
              "    }\n",
              "  </style>\n",
              "\n",
              "    <script>\n",
              "      const buttonEl =\n",
              "        document.querySelector('#df-699060ac-0785-486f-a530-3778d44e3824 button.colab-df-convert');\n",
              "      buttonEl.style.display =\n",
              "        google.colab.kernel.accessAllowed ? 'block' : 'none';\n",
              "\n",
              "      async function convertToInteractive(key) {\n",
              "        const element = document.querySelector('#df-699060ac-0785-486f-a530-3778d44e3824');\n",
              "        const dataTable =\n",
              "          await google.colab.kernel.invokeFunction('convertToInteractive',\n",
              "                                                    [key], {});\n",
              "        if (!dataTable) return;\n",
              "\n",
              "        const docLinkHtml = 'Like what you see? Visit the ' +\n",
              "          '<a target=\"_blank\" href=https://colab.research.google.com/notebooks/data_table.ipynb>data table notebook</a>'\n",
              "          + ' to learn more about interactive tables.';\n",
              "        element.innerHTML = '';\n",
              "        dataTable['output_type'] = 'display_data';\n",
              "        await google.colab.output.renderOutput(dataTable, element);\n",
              "        const docLink = document.createElement('div');\n",
              "        docLink.innerHTML = docLinkHtml;\n",
              "        element.appendChild(docLink);\n",
              "      }\n",
              "    </script>\n",
              "  </div>\n",
              "\n",
              "\n",
              "<div id=\"df-a919c51a-014d-4d7d-9371-4d55f2e10293\">\n",
              "  <button class=\"colab-df-quickchart\" onclick=\"quickchart('df-a919c51a-014d-4d7d-9371-4d55f2e10293')\"\n",
              "            title=\"Suggest charts\"\n",
              "            style=\"display:none;\">\n",
              "\n",
              "<svg xmlns=\"http://www.w3.org/2000/svg\" height=\"24px\"viewBox=\"0 0 24 24\"\n",
              "     width=\"24px\">\n",
              "    <g>\n",
              "        <path d=\"M19 3H5c-1.1 0-2 .9-2 2v14c0 1.1.9 2 2 2h14c1.1 0 2-.9 2-2V5c0-1.1-.9-2-2-2zM9 17H7v-7h2v7zm4 0h-2V7h2v10zm4 0h-2v-4h2v4z\"/>\n",
              "    </g>\n",
              "</svg>\n",
              "  </button>\n",
              "\n",
              "<style>\n",
              "  .colab-df-quickchart {\n",
              "      --bg-color: #E8F0FE;\n",
              "      --fill-color: #1967D2;\n",
              "      --hover-bg-color: #E2EBFA;\n",
              "      --hover-fill-color: #174EA6;\n",
              "      --disabled-fill-color: #AAA;\n",
              "      --disabled-bg-color: #DDD;\n",
              "  }\n",
              "\n",
              "  [theme=dark] .colab-df-quickchart {\n",
              "      --bg-color: #3B4455;\n",
              "      --fill-color: #D2E3FC;\n",
              "      --hover-bg-color: #434B5C;\n",
              "      --hover-fill-color: #FFFFFF;\n",
              "      --disabled-bg-color: #3B4455;\n",
              "      --disabled-fill-color: #666;\n",
              "  }\n",
              "\n",
              "  .colab-df-quickchart {\n",
              "    background-color: var(--bg-color);\n",
              "    border: none;\n",
              "    border-radius: 50%;\n",
              "    cursor: pointer;\n",
              "    display: none;\n",
              "    fill: var(--fill-color);\n",
              "    height: 32px;\n",
              "    padding: 0;\n",
              "    width: 32px;\n",
              "  }\n",
              "\n",
              "  .colab-df-quickchart:hover {\n",
              "    background-color: var(--hover-bg-color);\n",
              "    box-shadow: 0 1px 2px rgba(60, 64, 67, 0.3), 0 1px 3px 1px rgba(60, 64, 67, 0.15);\n",
              "    fill: var(--button-hover-fill-color);\n",
              "  }\n",
              "\n",
              "  .colab-df-quickchart-complete:disabled,\n",
              "  .colab-df-quickchart-complete:disabled:hover {\n",
              "    background-color: var(--disabled-bg-color);\n",
              "    fill: var(--disabled-fill-color);\n",
              "    box-shadow: none;\n",
              "  }\n",
              "\n",
              "  .colab-df-spinner {\n",
              "    border: 2px solid var(--fill-color);\n",
              "    border-color: transparent;\n",
              "    border-bottom-color: var(--fill-color);\n",
              "    animation:\n",
              "      spin 1s steps(1) infinite;\n",
              "  }\n",
              "\n",
              "  @keyframes spin {\n",
              "    0% {\n",
              "      border-color: transparent;\n",
              "      border-bottom-color: var(--fill-color);\n",
              "      border-left-color: var(--fill-color);\n",
              "    }\n",
              "    20% {\n",
              "      border-color: transparent;\n",
              "      border-left-color: var(--fill-color);\n",
              "      border-top-color: var(--fill-color);\n",
              "    }\n",
              "    30% {\n",
              "      border-color: transparent;\n",
              "      border-left-color: var(--fill-color);\n",
              "      border-top-color: var(--fill-color);\n",
              "      border-right-color: var(--fill-color);\n",
              "    }\n",
              "    40% {\n",
              "      border-color: transparent;\n",
              "      border-right-color: var(--fill-color);\n",
              "      border-top-color: var(--fill-color);\n",
              "    }\n",
              "    60% {\n",
              "      border-color: transparent;\n",
              "      border-right-color: var(--fill-color);\n",
              "    }\n",
              "    80% {\n",
              "      border-color: transparent;\n",
              "      border-right-color: var(--fill-color);\n",
              "      border-bottom-color: var(--fill-color);\n",
              "    }\n",
              "    90% {\n",
              "      border-color: transparent;\n",
              "      border-bottom-color: var(--fill-color);\n",
              "    }\n",
              "  }\n",
              "</style>\n",
              "\n",
              "  <script>\n",
              "    async function quickchart(key) {\n",
              "      const quickchartButtonEl =\n",
              "        document.querySelector('#' + key + ' button');\n",
              "      quickchartButtonEl.disabled = true;  // To prevent multiple clicks.\n",
              "      quickchartButtonEl.classList.add('colab-df-spinner');\n",
              "      try {\n",
              "        const charts = await google.colab.kernel.invokeFunction(\n",
              "            'suggestCharts', [key], {});\n",
              "      } catch (error) {\n",
              "        console.error('Error during call to suggestCharts:', error);\n",
              "      }\n",
              "      quickchartButtonEl.classList.remove('colab-df-spinner');\n",
              "      quickchartButtonEl.classList.add('colab-df-quickchart-complete');\n",
              "    }\n",
              "    (() => {\n",
              "      let quickchartButtonEl =\n",
              "        document.querySelector('#df-a919c51a-014d-4d7d-9371-4d55f2e10293 button');\n",
              "      quickchartButtonEl.style.display =\n",
              "        google.colab.kernel.accessAllowed ? 'block' : 'none';\n",
              "    })();\n",
              "  </script>\n",
              "</div>\n",
              "\n",
              "    </div>\n",
              "  </div>\n"
            ],
            "application/vnd.google.colaboratory.intrinsic+json": {
              "type": "dataframe",
              "summary": "{\n  \"name\": \"np\",\n  \"rows\": 10,\n  \"fields\": [\n    {\n      \"column\": \"Date\",\n      \"properties\": {\n        \"dtype\": \"date\",\n        \"min\": \"2012-01-03 00:00:00\",\n        \"max\": \"2012-01-17 00:00:00\",\n        \"num_unique_values\": 10,\n        \"samples\": [\n          \"2012-01-13 00:00:00\",\n          \"2012-01-04 00:00:00\",\n          \"2012-01-10 00:00:00\"\n        ],\n        \"semantic_type\": \"\",\n        \"description\": \"\"\n      }\n    },\n    {\n      \"column\": \"BP\",\n      \"properties\": {\n        \"dtype\": \"number\",\n        \"std\": 0.009959519712904335,\n        \"min\": 3.7723010517248654,\n        \"max\": 3.800420856143425,\n        \"num_unique_values\": 10,\n        \"samples\": [\n          3.7723010517248654,\n          3.794814831972641,\n          3.800420856143425\n        ],\n        \"semantic_type\": \"\",\n        \"description\": \"\"\n      }\n    },\n    {\n      \"column\": \"COP\",\n      \"properties\": {\n        \"dtype\": \"number\",\n        \"std\": 0.017486306614374298,\n        \"min\": 3.982657818392938,\n        \"max\": 4.031590066169519,\n        \"num_unique_values\": 10,\n        \"samples\": [\n          3.982657818392938,\n          4.03131944879906,\n          4.026572057627031\n        ],\n        \"semantic_type\": \"\",\n        \"description\": \"\"\n      }\n    },\n    {\n      \"column\": \"TOT\",\n      \"properties\": {\n        \"dtype\": \"number\",\n        \"std\": null,\n        \"min\": null,\n        \"max\": null,\n        \"num_unique_values\": 0,\n        \"samples\": [],\n        \"semantic_type\": \"\",\n        \"description\": \"\"\n      }\n    },\n    {\n      \"column\": \"TSLA\",\n      \"properties\": {\n        \"dtype\": \"number\",\n        \"std\": 0.026396412877346856,\n        \"min\": 0.5736128135621957,\n        \"max\": 0.6571743325956899,\n        \"num_unique_values\": 10,\n        \"samples\": [],\n        \"semantic_type\": \"\",\n        \"description\": \"\"\n      }\n    }\n  ]\n}"
            }
          },
          "metadata": {},
          "execution_count": 69
        }
      ],
      "source": [
        "# Print the natural log returns of the first 10 values\n",
        "## Your code goes here\n",
        "np.log(prices).head(10)"
      ]
    },
    {
      "cell_type": "code",
      "execution_count": 71,
      "metadata": {
        "deletable": true,
        "editable": true,
        "id": "YZD7joX1urxJ",
        "outputId": "beb7c4e3-58e5-4035-d66c-7c10c6ed72cf",
        "colab": {
          "base_uri": "https://localhost:8080/"
        }
      },
      "outputs": [
        {
          "output_type": "stream",
          "name": "stdout",
          "text": [
            "Ticker            BP       COP  TOT      TSLA\n",
            "Date                                         \n",
            "2012-01-04  0.015529 -0.000271  NaN -0.025224\n",
            "2012-01-05 -0.004947 -0.008660  NaN -0.015952\n",
            "2012-01-06  0.007458  0.002730  NaN -0.020173\n",
            "2012-01-09 -0.012562 -0.009529  NaN -0.007353\n",
            "2012-01-10  0.015902  0.010858  NaN  0.016296\n",
            "...              ...       ...  ...       ...\n",
            "2015-12-24  0.015937  0.037006  NaN -0.006977\n",
            "2015-12-28 -0.025838 -0.029160  NaN  0.004034\n",
            "2015-12-29  0.009473  0.013022  NaN -0.006177\n",
            "2015-12-30 -0.013137 -0.026747  NaN  0.028427\n",
            "2015-12-31 -0.009509 -0.018747  NaN  0.008073\n",
            "\n",
            "[1005 rows x 4 columns]\n"
          ]
        },
        {
          "output_type": "stream",
          "name": "stderr",
          "text": [
            "<ipython-input-71-7215067724e0>:3: FutureWarning: The default fill_method='pad' in DataFrame.pct_change is deprecated and will be removed in a future version. Either fill in any non-leading NA values prior to calling pct_change or specify 'fill_method=None' to not fill NA values.\n",
            "  print(prices.pct_change()[1:])\n"
          ]
        }
      ],
      "source": [
        "# Print the Muliplicative returns\n",
        "## Your code goes here\n",
        "print(prices.pct_change()[1:])"
      ]
    },
    {
      "cell_type": "code",
      "source": [],
      "metadata": {
        "id": "yXL5MPJK3a07",
        "outputId": "2867caf8-9fa5-4cec-9c22-f83e0ff90ab5",
        "colab": {
          "base_uri": "https://localhost:8080/",
          "height": 141
        }
      },
      "execution_count": 74,
      "outputs": [
        {
          "output_type": "error",
          "ename": "TypeError",
          "evalue": "NDFrame.head() got an unexpected keyword argument 'axis'",
          "traceback": [
            "\u001b[0;31m---------------------------------------------------------------------------\u001b[0m",
            "\u001b[0;31mTypeError\u001b[0m                                 Traceback (most recent call last)",
            "\u001b[0;32m<ipython-input-74-781a8f8183dc>\u001b[0m in \u001b[0;36m<cell line: 1>\u001b[0;34m()\u001b[0m\n\u001b[0;32m----> 1\u001b[0;31m \u001b[0mprices\u001b[0m\u001b[0;34m.\u001b[0m\u001b[0mhead\u001b[0m\u001b[0;34m(\u001b[0m\u001b[0maxis\u001b[0m\u001b[0;34m=\u001b[0m\u001b[0;36m0\u001b[0m\u001b[0;34m)\u001b[0m\u001b[0;34m\u001b[0m\u001b[0;34m\u001b[0m\u001b[0m\n\u001b[0m",
            "\u001b[0;31mTypeError\u001b[0m: NDFrame.head() got an unexpected keyword argument 'axis'"
          ]
        }
      ]
    },
    {
      "cell_type": "code",
      "execution_count": 73,
      "metadata": {
        "deletable": true,
        "editable": true,
        "id": "KDwL_C7rurxK",
        "outputId": "be10cdfb-afda-4d37-e45d-23fd682d6043",
        "colab": {
          "base_uri": "https://localhost:8080/",
          "height": 505
        }
      },
      "outputs": [
        {
          "output_type": "stream",
          "name": "stderr",
          "text": [
            "<ipython-input-73-3a5bc30e785a>:3: FutureWarning: The default fill_method='pad' in DataFrame.pct_change is deprecated and will be removed in a future version. Either fill in any non-leading NA values prior to calling pct_change or specify 'fill_method=None' to not fill NA values.\n",
            "  mult_return = prices.pct_change()[1:]\n"
          ]
        },
        {
          "output_type": "execute_result",
          "data": {
            "text/plain": [
              "<Axes: xlabel='Date'>"
            ]
          },
          "metadata": {},
          "execution_count": 73
        },
        {
          "output_type": "display_data",
          "data": {
            "text/plain": [
              "<Figure size 640x480 with 1 Axes>"
            ],
            "image/png": "[encoded data removed]"
          },
          "metadata": {}
        }
      ],
      "source": [
        "# Normlalize the returns and plot\n",
        "## Your code goes here\n",
        "mult_return = prices.pct_change()[1:]\n",
        "mult_returns = (mult_return - mult_return.mean(axis=0))/mult_return.std(axis=0)\n",
        "mult_returns.plot()"
      ]
    },
    {
      "cell_type": "code",
      "execution_count": 75,
      "metadata": {
        "deletable": true,
        "editable": true,
        "id": "NscQlHwQurxK",
        "outputId": "27f85d8f-4ad9-4a8d-8fcf-fc1a14633492",
        "colab": {
          "base_uri": "https://localhost:8080/",
          "height": 866
        }
      },
      "outputs": [
        {
          "output_type": "execute_result",
          "data": {
            "text/plain": [
              "<Axes: xlabel='Date'>"
            ]
          },
          "metadata": {},
          "execution_count": 75
        },
        {
          "output_type": "display_data",
          "data": {
            "text/plain": [
              "<Figure size 640x480 with 1 Axes>"
            ],
            "image/png": "[encoded data removed]"
          },
          "metadata": {}
        },
        {
          "output_type": "display_data",
          "data": {
            "text/plain": [
              "<Figure size 640x480 with 1 Axes>"
            ],
            "image/png": "[encoded data removed]"
          },
          "metadata": {}
        }
      ],
      "source": [
        "# Rolling mean\n",
        "## Your code goes here\n",
        "rolling_mean = prices.rolling(window=60).mean()\n",
        "rolling_mean.plot()\n",
        "\n",
        "# Rolling standard deviation\n",
        "## Your code goes here\n",
        "rolling_std = prices.rolling(window=60).std()\n",
        "rolling_std.plot()\n",
        "# Plotting\n",
        "## Your code goes here"
      ]
    },
    {
      "cell_type": "markdown",
      "metadata": {
        "id": "xnaUv8lrurxK"
      },
      "source": [
        "---"
      ]
    },
    {
      "cell_type": "markdown",
      "metadata": {
        "deletable": true,
        "editable": true,
        "id": "39lf8q0qurxK"
      },
      "source": [
        "Congratulations on completing the Introduction to pandas exercises!\n",
        "\n",
        "As you learn more about writing trading algorithms and the Quantopian platform, be sure to check out the daily [Quantopian Contest](https://www.quantopian.com/contest), in which you can compete for a cash prize every day.\n",
        "\n",
        "Start by going through the [Writing a Contest Algorithm](https://www.quantopian.com/tutorials/contest) Tutorial."
      ]
    },
    {
      "cell_type": "markdown",
      "metadata": {
        "deletable": true,
        "editable": true,
        "id": "lzQAL1z0urxK"
      },
      "source": [
        "*This presentation is for informational purposes only and does not constitute an offer to sell, a solicitation to buy, or a recommendation for any security; nor does it constitute an offer to provide investment advisory or other services by Quantopian, Inc. (\"Quantopian\"). Nothing contained herein constitutes investment advice or offers any opinion with respect to the suitability of any security, and any views expressed herein should not be taken as advice to buy, sell, or hold any security or as an endorsement of any security or company.  In preparing the information contained herein, Quantopian, Inc. has not taken into account the investment needs, objectives, and financial circumstances of any particular investor. Any views expressed and data illustrated herein were prepared based upon information, believed to be reliable, available to Quantopian, Inc. at the time of publication. Quantopian makes no guarantees as to their accuracy or completeness. All information is subject to change and may quickly become unreliable for various reasons, including changes in market conditions or economic circumstances.*"
      ]
    }
  ],
  "metadata": {
    "kernelspec": {
      "display_name": "Python 2",
      "language": "python",
      "name": "python2"
    },
    "language_info": {
      "codemirror_mode": {
        "name": "ipython",
        "version": 2
      },
      "file_extension": ".py",
      "mimetype": "text/x-python",
      "name": "python",
      "nbconvert_exporter": "python",
      "pygments_lexer": "ipython2",
      "version": "2.7.12"
    },
    "colab": {
      "provenance": [],
      "toc_visible": true,
      "include_colab_link": true
    }
  },
  "nbformat": 4,
  "nbformat_minor": 0
}